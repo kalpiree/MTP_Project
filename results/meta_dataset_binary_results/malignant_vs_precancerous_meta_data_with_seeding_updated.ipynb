{
  "nbformat": 4,
  "nbformat_minor": 0,
  "metadata": {
    "colab": {
      "name": "malignant_vs_precancerous_meta_data_with_seeding_updated.ipynb",
      "provenance": [],
      "collapsed_sections": []
    },
    "kernelspec": {
      "name": "python3",
      "display_name": "Python 3"
    },
    "language_info": {
      "name": "python"
    }
  },
  "cells": [
    {
      "cell_type": "markdown",
      "source": [
        "# Malignant vs All"
      ],
      "metadata": {
        "id": "_rgfOGyOgrG-"
      }
    },
    {
      "cell_type": "markdown",
      "source": [
        "## Importing libraries"
      ],
      "metadata": {
        "id": "jkNWpYTPfSj6"
      }
    },
    {
      "cell_type": "code",
      "execution_count": 1,
      "metadata": {
        "id": "dNSbJkNkKkpM"
      },
      "outputs": [],
      "source": [
        "# Importing required libraries\n",
        "import pandas as pd  \n",
        "import numpy as np\n",
        "import matplotlib.pyplot as plt\n",
        "import matplotlib.image as mpimg\n",
        "from matplotlib import style\n",
        "import seaborn as sns\n",
        "from sklearn.preprocessing import StandardScaler\n",
        "from sklearn.decomposition import PCA\n",
        "from sklearn.model_selection import (\n",
        "    train_test_split,\n",
        "    TimeSeriesSplit,\n",
        "    KFold,\n",
        "    StratifiedKFold,\n",
        "    GroupKFold,\n",
        "    StratifiedGroupKFold,\n",
        ")\n",
        "from sklearn.ensemble import RandomForestClassifier\n",
        "from sklearn import metrics\n",
        "from sklearn.model_selection import validation_curve\n",
        "from sklearn.metrics import accuracy_score, roc_auc_score\n",
        "from sklearn.svm import SVC\n",
        "from sklearn.model_selection import cross_val_score\n",
        "\n",
        "# evaluate a logistic regression model using k-fold cross-validation\n",
        "from numpy import mean\n",
        "from numpy import std\n",
        "from sklearn.ensemble import GradientBoostingClassifier\n",
        "from sklearn.metrics import accuracy_score\n",
        "from sklearn.ensemble import RandomForestClassifier, BaggingClassifier, AdaBoostClassifier, VotingClassifier\n",
        "from sklearn.neural_network import MLPClassifier"
      ]
    },
    {
      "cell_type": "markdown",
      "source": [
        "## Uploading file"
      ],
      "metadata": {
        "id": "TOEbFBsbfZzS"
      }
    },
    {
      "cell_type": "code",
      "source": [
        "# Read in data and display first 5 rows\n",
        "df = pd.read_csv (r'/content/clinical_data.csv')\n",
        "df.head()"
      ],
      "metadata": {
        "colab": {
          "base_uri": "https://localhost:8080/",
          "height": 287
        },
        "id": "c3TWUykMKt4O",
        "outputId": "c94d2b74-0c9d-4b19-ca7c-3d764c06e114"
      },
      "execution_count": 2,
      "outputs": [
        {
          "output_type": "execute_result",
          "data": {
            "text/plain": [
              "  Patient ID Socio_Economic Status Education Status   Age Sex  Weight_kg  \\\n",
              "0      P0215                     L               NE  30.0   F       35.0   \n",
              "1      P0216                     L               NE  55.0   M       49.0   \n",
              "2      P0218                     L               BE  51.0   F       45.0   \n",
              "3      P0221                     L                E  32.0   F       47.0   \n",
              "4      P0222                     M                E  46.0   M       59.0   \n",
              "\n",
              "   Height_metre  BMI_kg/metre2 Observable_symptom Burning_sensation  \\\n",
              "0          1.42      17.357667                Yes                No   \n",
              "1          1.57      19.879103                Yes                No   \n",
              "2          1.53      19.223376                Yes                No   \n",
              "3          1.52      20.342798                Yes                No   \n",
              "4          1.68      20.904195                Yes                No   \n",
              "\n",
              "  Dental_pain Medical_history Oral_Habits  Exposure_in_yr  Frequency_day  \\\n",
              "0          No              No         Yes               2              2   \n",
              "1          No              No         Yes               2              2   \n",
              "2          No              No          No               0              0   \n",
              "3          No              No          No               1              1   \n",
              "4          No              No         Yes               2              2   \n",
              "\n",
              "  Dietary_Habits Spicy/Non_Spicy Subject_Tag binary_case1 binary_case2  \n",
              "0             NV               S   Malignant            M            M  \n",
              "1             NV               S   Malignant            M            M  \n",
              "2             NV               S   Malignant            M            M  \n",
              "3             NV               S   Malignant            M            M  \n",
              "4             NV               S   Malignant            M            M  "
            ],
            "text/html": [
              "\n",
              "  <div id=\"df-44e94f98-2693-4803-a824-1789a62f8d6b\">\n",
              "    <div class=\"colab-df-container\">\n",
              "      <div>\n",
              "<style scoped>\n",
              "    .dataframe tbody tr th:only-of-type {\n",
              "        vertical-align: middle;\n",
              "    }\n",
              "\n",
              "    .dataframe tbody tr th {\n",
              "        vertical-align: top;\n",
              "    }\n",
              "\n",
              "    .dataframe thead th {\n",
              "        text-align: right;\n",
              "    }\n",
              "</style>\n",
              "<table border=\"1\" class=\"dataframe\">\n",
              "  <thead>\n",
              "    <tr style=\"text-align: right;\">\n",
              "      <th></th>\n",
              "      <th>Patient ID</th>\n",
              "      <th>Socio_Economic Status</th>\n",
              "      <th>Education Status</th>\n",
              "      <th>Age</th>\n",
              "      <th>Sex</th>\n",
              "      <th>Weight_kg</th>\n",
              "      <th>Height_metre</th>\n",
              "      <th>BMI_kg/metre2</th>\n",
              "      <th>Observable_symptom</th>\n",
              "      <th>Burning_sensation</th>\n",
              "      <th>Dental_pain</th>\n",
              "      <th>Medical_history</th>\n",
              "      <th>Oral_Habits</th>\n",
              "      <th>Exposure_in_yr</th>\n",
              "      <th>Frequency_day</th>\n",
              "      <th>Dietary_Habits</th>\n",
              "      <th>Spicy/Non_Spicy</th>\n",
              "      <th>Subject_Tag</th>\n",
              "      <th>binary_case1</th>\n",
              "      <th>binary_case2</th>\n",
              "    </tr>\n",
              "  </thead>\n",
              "  <tbody>\n",
              "    <tr>\n",
              "      <th>0</th>\n",
              "      <td>P0215</td>\n",
              "      <td>L</td>\n",
              "      <td>NE</td>\n",
              "      <td>30.0</td>\n",
              "      <td>F</td>\n",
              "      <td>35.0</td>\n",
              "      <td>1.42</td>\n",
              "      <td>17.357667</td>\n",
              "      <td>Yes</td>\n",
              "      <td>No</td>\n",
              "      <td>No</td>\n",
              "      <td>No</td>\n",
              "      <td>Yes</td>\n",
              "      <td>2</td>\n",
              "      <td>2</td>\n",
              "      <td>NV</td>\n",
              "      <td>S</td>\n",
              "      <td>Malignant</td>\n",
              "      <td>M</td>\n",
              "      <td>M</td>\n",
              "    </tr>\n",
              "    <tr>\n",
              "      <th>1</th>\n",
              "      <td>P0216</td>\n",
              "      <td>L</td>\n",
              "      <td>NE</td>\n",
              "      <td>55.0</td>\n",
              "      <td>M</td>\n",
              "      <td>49.0</td>\n",
              "      <td>1.57</td>\n",
              "      <td>19.879103</td>\n",
              "      <td>Yes</td>\n",
              "      <td>No</td>\n",
              "      <td>No</td>\n",
              "      <td>No</td>\n",
              "      <td>Yes</td>\n",
              "      <td>2</td>\n",
              "      <td>2</td>\n",
              "      <td>NV</td>\n",
              "      <td>S</td>\n",
              "      <td>Malignant</td>\n",
              "      <td>M</td>\n",
              "      <td>M</td>\n",
              "    </tr>\n",
              "    <tr>\n",
              "      <th>2</th>\n",
              "      <td>P0218</td>\n",
              "      <td>L</td>\n",
              "      <td>BE</td>\n",
              "      <td>51.0</td>\n",
              "      <td>F</td>\n",
              "      <td>45.0</td>\n",
              "      <td>1.53</td>\n",
              "      <td>19.223376</td>\n",
              "      <td>Yes</td>\n",
              "      <td>No</td>\n",
              "      <td>No</td>\n",
              "      <td>No</td>\n",
              "      <td>No</td>\n",
              "      <td>0</td>\n",
              "      <td>0</td>\n",
              "      <td>NV</td>\n",
              "      <td>S</td>\n",
              "      <td>Malignant</td>\n",
              "      <td>M</td>\n",
              "      <td>M</td>\n",
              "    </tr>\n",
              "    <tr>\n",
              "      <th>3</th>\n",
              "      <td>P0221</td>\n",
              "      <td>L</td>\n",
              "      <td>E</td>\n",
              "      <td>32.0</td>\n",
              "      <td>F</td>\n",
              "      <td>47.0</td>\n",
              "      <td>1.52</td>\n",
              "      <td>20.342798</td>\n",
              "      <td>Yes</td>\n",
              "      <td>No</td>\n",
              "      <td>No</td>\n",
              "      <td>No</td>\n",
              "      <td>No</td>\n",
              "      <td>1</td>\n",
              "      <td>1</td>\n",
              "      <td>NV</td>\n",
              "      <td>S</td>\n",
              "      <td>Malignant</td>\n",
              "      <td>M</td>\n",
              "      <td>M</td>\n",
              "    </tr>\n",
              "    <tr>\n",
              "      <th>4</th>\n",
              "      <td>P0222</td>\n",
              "      <td>M</td>\n",
              "      <td>E</td>\n",
              "      <td>46.0</td>\n",
              "      <td>M</td>\n",
              "      <td>59.0</td>\n",
              "      <td>1.68</td>\n",
              "      <td>20.904195</td>\n",
              "      <td>Yes</td>\n",
              "      <td>No</td>\n",
              "      <td>No</td>\n",
              "      <td>No</td>\n",
              "      <td>Yes</td>\n",
              "      <td>2</td>\n",
              "      <td>2</td>\n",
              "      <td>NV</td>\n",
              "      <td>S</td>\n",
              "      <td>Malignant</td>\n",
              "      <td>M</td>\n",
              "      <td>M</td>\n",
              "    </tr>\n",
              "  </tbody>\n",
              "</table>\n",
              "</div>\n",
              "      <button class=\"colab-df-convert\" onclick=\"convertToInteractive('df-44e94f98-2693-4803-a824-1789a62f8d6b')\"\n",
              "              title=\"Convert this dataframe to an interactive table.\"\n",
              "              style=\"display:none;\">\n",
              "        \n",
              "  <svg xmlns=\"http://www.w3.org/2000/svg\" height=\"24px\"viewBox=\"0 0 24 24\"\n",
              "       width=\"24px\">\n",
              "    <path d=\"M0 0h24v24H0V0z\" fill=\"none\"/>\n",
              "    <path d=\"M18.56 5.44l.94 2.06.94-2.06 2.06-.94-2.06-.94-.94-2.06-.94 2.06-2.06.94zm-11 1L8.5 8.5l.94-2.06 2.06-.94-2.06-.94L8.5 2.5l-.94 2.06-2.06.94zm10 10l.94 2.06.94-2.06 2.06-.94-2.06-.94-.94-2.06-.94 2.06-2.06.94z\"/><path d=\"M17.41 7.96l-1.37-1.37c-.4-.4-.92-.59-1.43-.59-.52 0-1.04.2-1.43.59L10.3 9.45l-7.72 7.72c-.78.78-.78 2.05 0 2.83L4 21.41c.39.39.9.59 1.41.59.51 0 1.02-.2 1.41-.59l7.78-7.78 2.81-2.81c.8-.78.8-2.07 0-2.86zM5.41 20L4 18.59l7.72-7.72 1.47 1.35L5.41 20z\"/>\n",
              "  </svg>\n",
              "      </button>\n",
              "      \n",
              "  <style>\n",
              "    .colab-df-container {\n",
              "      display:flex;\n",
              "      flex-wrap:wrap;\n",
              "      gap: 12px;\n",
              "    }\n",
              "\n",
              "    .colab-df-convert {\n",
              "      background-color: #E8F0FE;\n",
              "      border: none;\n",
              "      border-radius: 50%;\n",
              "      cursor: pointer;\n",
              "      display: none;\n",
              "      fill: #1967D2;\n",
              "      height: 32px;\n",
              "      padding: 0 0 0 0;\n",
              "      width: 32px;\n",
              "    }\n",
              "\n",
              "    .colab-df-convert:hover {\n",
              "      background-color: #E2EBFA;\n",
              "      box-shadow: 0px 1px 2px rgba(60, 64, 67, 0.3), 0px 1px 3px 1px rgba(60, 64, 67, 0.15);\n",
              "      fill: #174EA6;\n",
              "    }\n",
              "\n",
              "    [theme=dark] .colab-df-convert {\n",
              "      background-color: #3B4455;\n",
              "      fill: #D2E3FC;\n",
              "    }\n",
              "\n",
              "    [theme=dark] .colab-df-convert:hover {\n",
              "      background-color: #434B5C;\n",
              "      box-shadow: 0px 1px 3px 1px rgba(0, 0, 0, 0.15);\n",
              "      filter: drop-shadow(0px 1px 2px rgba(0, 0, 0, 0.3));\n",
              "      fill: #FFFFFF;\n",
              "    }\n",
              "  </style>\n",
              "\n",
              "      <script>\n",
              "        const buttonEl =\n",
              "          document.querySelector('#df-44e94f98-2693-4803-a824-1789a62f8d6b button.colab-df-convert');\n",
              "        buttonEl.style.display =\n",
              "          google.colab.kernel.accessAllowed ? 'block' : 'none';\n",
              "\n",
              "        async function convertToInteractive(key) {\n",
              "          const element = document.querySelector('#df-44e94f98-2693-4803-a824-1789a62f8d6b');\n",
              "          const dataTable =\n",
              "            await google.colab.kernel.invokeFunction('convertToInteractive',\n",
              "                                                     [key], {});\n",
              "          if (!dataTable) return;\n",
              "\n",
              "          const docLinkHtml = 'Like what you see? Visit the ' +\n",
              "            '<a target=\"_blank\" href=https://colab.research.google.com/notebooks/data_table.ipynb>data table notebook</a>'\n",
              "            + ' to learn more about interactive tables.';\n",
              "          element.innerHTML = '';\n",
              "          dataTable['output_type'] = 'display_data';\n",
              "          await google.colab.output.renderOutput(dataTable, element);\n",
              "          const docLink = document.createElement('div');\n",
              "          docLink.innerHTML = docLinkHtml;\n",
              "          element.appendChild(docLink);\n",
              "        }\n",
              "      </script>\n",
              "    </div>\n",
              "  </div>\n",
              "  "
            ]
          },
          "metadata": {},
          "execution_count": 2
        }
      ]
    },
    {
      "cell_type": "markdown",
      "source": [
        "## Label Encoding"
      ],
      "metadata": {
        "id": "DaZJCe1pfgJa"
      }
    },
    {
      "cell_type": "code",
      "source": [
        "from sklearn import preprocessing\n",
        "# Creating labelEncoder\n",
        "le = preprocessing.LabelEncoder()\n",
        "# Converting string labels into numbers.\n",
        "df['Socio_Economic Status']=le.fit_transform(df['Socio_Economic Status'])\n",
        "df['Education Status']=le.fit_transform(df['Education Status'])\n",
        "df['Sex']=le.fit_transform(df['Sex'])\n",
        "df['Education Status']=le.fit_transform(df['Education Status'])\n",
        "df['Observable_symptom']=le.fit_transform(df['Observable_symptom'])\n",
        "df['Burning_sensation']=le.fit_transform(df['Burning_sensation'])\n",
        "df['Observable_symptom']=le.fit_transform(df['Observable_symptom'])\n",
        "df['Dental_pain']=le.fit_transform(df['Dental_pain'])\n",
        "df['Medical_history']=le.fit_transform(df['Medical_history'])\n",
        "df['Oral_Habits']=le.fit_transform(df['Oral_Habits'])\n",
        "df['Dietary_Habits']=le.fit_transform(df['Dietary_Habits'])\n",
        "df['Spicy/Non_Spicy']=le.fit_transform(df['Spicy/Non_Spicy'])\n",
        "df['Subject_Tag']=le.fit_transform(df['Subject_Tag'])\n",
        "df['binary_case1']=le.fit_transform(df['binary_case1'])\n",
        "df['binary_case2']=le.fit_transform(df['binary_case2'])"
      ],
      "metadata": {
        "id": "mzX1EWWwK6b5"
      },
      "execution_count": 3,
      "outputs": []
    },
    {
      "cell_type": "markdown",
      "source": [
        "## Data Preprocessing"
      ],
      "metadata": {
        "id": "CkhYXQ34fkx4"
      }
    },
    {
      "cell_type": "markdown",
      "source": [
        "### Filling NaN values"
      ],
      "metadata": {
        "id": "6YlQdlr-fo3W"
      }
    },
    {
      "cell_type": "code",
      "source": [
        "# DATA PREPROCESSING\n",
        "# filling the unavailable categorical data with mode\n",
        "col = df.columns.values.tolist()\n",
        "#df_y.fillna(value=df_y.median(), inplace = True)\n",
        "categorical = [\"Socio_Economic Status\",\"Education Status\",\"Sex\", \"Observable_symptom\",\"Burning_sensation\",\"Dental_pain\",\"Medical_history\",\"Oral_Habits\",\"Dietary_Habits\",\"Spicy/Non_Spicy\"]\n",
        "#for c in col:\n",
        " # if c not in categorical:\n",
        "  #  datainput[c].fillna(value=datainput[c].median(), inplace=True)\n",
        "for c in categorical:\n",
        "  df[c] = df[c].fillna(value=df[c].mode()[0])"
      ],
      "metadata": {
        "id": "Bi1RngO0K9HI"
      },
      "execution_count": 4,
      "outputs": []
    },
    {
      "cell_type": "code",
      "source": [
        "numerical =[\"Age\",\"Weight_kg\",\"Height_metre\",\"BMI_kg/metre2\"]\n",
        "for c in numerical:\n",
        " df[c].fillna(value=df[c].median(), inplace=True)"
      ],
      "metadata": {
        "id": "MbN9mrd8K_uH"
      },
      "execution_count": 5,
      "outputs": []
    },
    {
      "cell_type": "markdown",
      "source": [
        "### Dropping non-useful x labels"
      ],
      "metadata": {
        "id": "mJZx9Xavfuji"
      }
    },
    {
      "cell_type": "code",
      "source": [
        "df=df.drop(['Subject_Tag'],axis=1)\n",
        "df=df.drop(['binary_case1'],axis=1)\n",
        "df=df.drop(['Patient ID'],axis=1)"
      ],
      "metadata": {
        "id": "s8s7Lt_FLETv"
      },
      "execution_count": 6,
      "outputs": []
    },
    {
      "cell_type": "code",
      "source": [
        "df"
      ],
      "metadata": {
        "id": "btxvitQGLH3q",
        "colab": {
          "base_uri": "https://localhost:8080/",
          "height": 505
        },
        "outputId": "945d4375-8ead-447d-c110-470e7ffde37b"
      },
      "execution_count": 7,
      "outputs": [
        {
          "output_type": "execute_result",
          "data": {
            "text/plain": [
              "     Socio_Economic Status  Education Status   Age  Sex  Weight_kg  \\\n",
              "0                        1                 2  30.0    0       35.0   \n",
              "1                        1                 2  55.0    1       49.0   \n",
              "2                        1                 0  51.0    0       45.0   \n",
              "3                        1                 1  32.0    0       47.0   \n",
              "4                        2                 1  46.0    1       59.0   \n",
              "..                     ...               ...   ...  ...        ...   \n",
              "459                      1                 3  55.0    0       55.0   \n",
              "460                      2                 1  30.0    1       58.0   \n",
              "461                      2                 1  37.0    1       60.0   \n",
              "462                      1                 0  58.0    1       46.0   \n",
              "463                      1                 0  28.0    1       58.0   \n",
              "\n",
              "     Height_metre  BMI_kg/metre2  Observable_symptom  Burning_sensation  \\\n",
              "0            1.42      17.357667                   1                  0   \n",
              "1            1.57      19.879103                   1                  0   \n",
              "2            1.53      19.223376                   1                  0   \n",
              "3            1.52      20.342798                   1                  0   \n",
              "4            1.68      20.904195                   1                  0   \n",
              "..            ...            ...                 ...                ...   \n",
              "459          1.42      27.276334                   1                  0   \n",
              "460          1.66      21.048048                   1                  0   \n",
              "461          1.72      20.281233                   1                  1   \n",
              "462          1.66      16.693279                   1                  0   \n",
              "463          1.63      21.829952                   1                  1   \n",
              "\n",
              "     Dental_pain  Medical_history  Oral_Habits  Exposure_in_yr  Frequency_day  \\\n",
              "0              0                0            1               2              2   \n",
              "1              0                0            1               2              2   \n",
              "2              0                0            0               0              0   \n",
              "3              0                0            0               1              1   \n",
              "4              0                0            1               2              2   \n",
              "..           ...              ...          ...             ...            ...   \n",
              "459            0                0            0               0              0   \n",
              "460            0                0            1               2              2   \n",
              "461            0                0            1               2              2   \n",
              "462            0                0            1               2              2   \n",
              "463            0                0            0               0              0   \n",
              "\n",
              "     Dietary_Habits  Spicy/Non_Spicy  binary_case2  \n",
              "0                 0                1             0  \n",
              "1                 0                1             0  \n",
              "2                 0                1             0  \n",
              "3                 0                1             0  \n",
              "4                 0                1             0  \n",
              "..              ...              ...           ...  \n",
              "459               0                1             1  \n",
              "460               0                1             1  \n",
              "461               0                1             1  \n",
              "462               0                1             1  \n",
              "463               0                1             1  \n",
              "\n",
              "[464 rows x 17 columns]"
            ],
            "text/html": [
              "\n",
              "  <div id=\"df-da70b554-07fd-4f46-a163-271f2b731b6b\">\n",
              "    <div class=\"colab-df-container\">\n",
              "      <div>\n",
              "<style scoped>\n",
              "    .dataframe tbody tr th:only-of-type {\n",
              "        vertical-align: middle;\n",
              "    }\n",
              "\n",
              "    .dataframe tbody tr th {\n",
              "        vertical-align: top;\n",
              "    }\n",
              "\n",
              "    .dataframe thead th {\n",
              "        text-align: right;\n",
              "    }\n",
              "</style>\n",
              "<table border=\"1\" class=\"dataframe\">\n",
              "  <thead>\n",
              "    <tr style=\"text-align: right;\">\n",
              "      <th></th>\n",
              "      <th>Socio_Economic Status</th>\n",
              "      <th>Education Status</th>\n",
              "      <th>Age</th>\n",
              "      <th>Sex</th>\n",
              "      <th>Weight_kg</th>\n",
              "      <th>Height_metre</th>\n",
              "      <th>BMI_kg/metre2</th>\n",
              "      <th>Observable_symptom</th>\n",
              "      <th>Burning_sensation</th>\n",
              "      <th>Dental_pain</th>\n",
              "      <th>Medical_history</th>\n",
              "      <th>Oral_Habits</th>\n",
              "      <th>Exposure_in_yr</th>\n",
              "      <th>Frequency_day</th>\n",
              "      <th>Dietary_Habits</th>\n",
              "      <th>Spicy/Non_Spicy</th>\n",
              "      <th>binary_case2</th>\n",
              "    </tr>\n",
              "  </thead>\n",
              "  <tbody>\n",
              "    <tr>\n",
              "      <th>0</th>\n",
              "      <td>1</td>\n",
              "      <td>2</td>\n",
              "      <td>30.0</td>\n",
              "      <td>0</td>\n",
              "      <td>35.0</td>\n",
              "      <td>1.42</td>\n",
              "      <td>17.357667</td>\n",
              "      <td>1</td>\n",
              "      <td>0</td>\n",
              "      <td>0</td>\n",
              "      <td>0</td>\n",
              "      <td>1</td>\n",
              "      <td>2</td>\n",
              "      <td>2</td>\n",
              "      <td>0</td>\n",
              "      <td>1</td>\n",
              "      <td>0</td>\n",
              "    </tr>\n",
              "    <tr>\n",
              "      <th>1</th>\n",
              "      <td>1</td>\n",
              "      <td>2</td>\n",
              "      <td>55.0</td>\n",
              "      <td>1</td>\n",
              "      <td>49.0</td>\n",
              "      <td>1.57</td>\n",
              "      <td>19.879103</td>\n",
              "      <td>1</td>\n",
              "      <td>0</td>\n",
              "      <td>0</td>\n",
              "      <td>0</td>\n",
              "      <td>1</td>\n",
              "      <td>2</td>\n",
              "      <td>2</td>\n",
              "      <td>0</td>\n",
              "      <td>1</td>\n",
              "      <td>0</td>\n",
              "    </tr>\n",
              "    <tr>\n",
              "      <th>2</th>\n",
              "      <td>1</td>\n",
              "      <td>0</td>\n",
              "      <td>51.0</td>\n",
              "      <td>0</td>\n",
              "      <td>45.0</td>\n",
              "      <td>1.53</td>\n",
              "      <td>19.223376</td>\n",
              "      <td>1</td>\n",
              "      <td>0</td>\n",
              "      <td>0</td>\n",
              "      <td>0</td>\n",
              "      <td>0</td>\n",
              "      <td>0</td>\n",
              "      <td>0</td>\n",
              "      <td>0</td>\n",
              "      <td>1</td>\n",
              "      <td>0</td>\n",
              "    </tr>\n",
              "    <tr>\n",
              "      <th>3</th>\n",
              "      <td>1</td>\n",
              "      <td>1</td>\n",
              "      <td>32.0</td>\n",
              "      <td>0</td>\n",
              "      <td>47.0</td>\n",
              "      <td>1.52</td>\n",
              "      <td>20.342798</td>\n",
              "      <td>1</td>\n",
              "      <td>0</td>\n",
              "      <td>0</td>\n",
              "      <td>0</td>\n",
              "      <td>0</td>\n",
              "      <td>1</td>\n",
              "      <td>1</td>\n",
              "      <td>0</td>\n",
              "      <td>1</td>\n",
              "      <td>0</td>\n",
              "    </tr>\n",
              "    <tr>\n",
              "      <th>4</th>\n",
              "      <td>2</td>\n",
              "      <td>1</td>\n",
              "      <td>46.0</td>\n",
              "      <td>1</td>\n",
              "      <td>59.0</td>\n",
              "      <td>1.68</td>\n",
              "      <td>20.904195</td>\n",
              "      <td>1</td>\n",
              "      <td>0</td>\n",
              "      <td>0</td>\n",
              "      <td>0</td>\n",
              "      <td>1</td>\n",
              "      <td>2</td>\n",
              "      <td>2</td>\n",
              "      <td>0</td>\n",
              "      <td>1</td>\n",
              "      <td>0</td>\n",
              "    </tr>\n",
              "    <tr>\n",
              "      <th>...</th>\n",
              "      <td>...</td>\n",
              "      <td>...</td>\n",
              "      <td>...</td>\n",
              "      <td>...</td>\n",
              "      <td>...</td>\n",
              "      <td>...</td>\n",
              "      <td>...</td>\n",
              "      <td>...</td>\n",
              "      <td>...</td>\n",
              "      <td>...</td>\n",
              "      <td>...</td>\n",
              "      <td>...</td>\n",
              "      <td>...</td>\n",
              "      <td>...</td>\n",
              "      <td>...</td>\n",
              "      <td>...</td>\n",
              "      <td>...</td>\n",
              "    </tr>\n",
              "    <tr>\n",
              "      <th>459</th>\n",
              "      <td>1</td>\n",
              "      <td>3</td>\n",
              "      <td>55.0</td>\n",
              "      <td>0</td>\n",
              "      <td>55.0</td>\n",
              "      <td>1.42</td>\n",
              "      <td>27.276334</td>\n",
              "      <td>1</td>\n",
              "      <td>0</td>\n",
              "      <td>0</td>\n",
              "      <td>0</td>\n",
              "      <td>0</td>\n",
              "      <td>0</td>\n",
              "      <td>0</td>\n",
              "      <td>0</td>\n",
              "      <td>1</td>\n",
              "      <td>1</td>\n",
              "    </tr>\n",
              "    <tr>\n",
              "      <th>460</th>\n",
              "      <td>2</td>\n",
              "      <td>1</td>\n",
              "      <td>30.0</td>\n",
              "      <td>1</td>\n",
              "      <td>58.0</td>\n",
              "      <td>1.66</td>\n",
              "      <td>21.048048</td>\n",
              "      <td>1</td>\n",
              "      <td>0</td>\n",
              "      <td>0</td>\n",
              "      <td>0</td>\n",
              "      <td>1</td>\n",
              "      <td>2</td>\n",
              "      <td>2</td>\n",
              "      <td>0</td>\n",
              "      <td>1</td>\n",
              "      <td>1</td>\n",
              "    </tr>\n",
              "    <tr>\n",
              "      <th>461</th>\n",
              "      <td>2</td>\n",
              "      <td>1</td>\n",
              "      <td>37.0</td>\n",
              "      <td>1</td>\n",
              "      <td>60.0</td>\n",
              "      <td>1.72</td>\n",
              "      <td>20.281233</td>\n",
              "      <td>1</td>\n",
              "      <td>1</td>\n",
              "      <td>0</td>\n",
              "      <td>0</td>\n",
              "      <td>1</td>\n",
              "      <td>2</td>\n",
              "      <td>2</td>\n",
              "      <td>0</td>\n",
              "      <td>1</td>\n",
              "      <td>1</td>\n",
              "    </tr>\n",
              "    <tr>\n",
              "      <th>462</th>\n",
              "      <td>1</td>\n",
              "      <td>0</td>\n",
              "      <td>58.0</td>\n",
              "      <td>1</td>\n",
              "      <td>46.0</td>\n",
              "      <td>1.66</td>\n",
              "      <td>16.693279</td>\n",
              "      <td>1</td>\n",
              "      <td>0</td>\n",
              "      <td>0</td>\n",
              "      <td>0</td>\n",
              "      <td>1</td>\n",
              "      <td>2</td>\n",
              "      <td>2</td>\n",
              "      <td>0</td>\n",
              "      <td>1</td>\n",
              "      <td>1</td>\n",
              "    </tr>\n",
              "    <tr>\n",
              "      <th>463</th>\n",
              "      <td>1</td>\n",
              "      <td>0</td>\n",
              "      <td>28.0</td>\n",
              "      <td>1</td>\n",
              "      <td>58.0</td>\n",
              "      <td>1.63</td>\n",
              "      <td>21.829952</td>\n",
              "      <td>1</td>\n",
              "      <td>1</td>\n",
              "      <td>0</td>\n",
              "      <td>0</td>\n",
              "      <td>0</td>\n",
              "      <td>0</td>\n",
              "      <td>0</td>\n",
              "      <td>0</td>\n",
              "      <td>1</td>\n",
              "      <td>1</td>\n",
              "    </tr>\n",
              "  </tbody>\n",
              "</table>\n",
              "<p>464 rows × 17 columns</p>\n",
              "</div>\n",
              "      <button class=\"colab-df-convert\" onclick=\"convertToInteractive('df-da70b554-07fd-4f46-a163-271f2b731b6b')\"\n",
              "              title=\"Convert this dataframe to an interactive table.\"\n",
              "              style=\"display:none;\">\n",
              "        \n",
              "  <svg xmlns=\"http://www.w3.org/2000/svg\" height=\"24px\"viewBox=\"0 0 24 24\"\n",
              "       width=\"24px\">\n",
              "    <path d=\"M0 0h24v24H0V0z\" fill=\"none\"/>\n",
              "    <path d=\"M18.56 5.44l.94 2.06.94-2.06 2.06-.94-2.06-.94-.94-2.06-.94 2.06-2.06.94zm-11 1L8.5 8.5l.94-2.06 2.06-.94-2.06-.94L8.5 2.5l-.94 2.06-2.06.94zm10 10l.94 2.06.94-2.06 2.06-.94-2.06-.94-.94-2.06-.94 2.06-2.06.94z\"/><path d=\"M17.41 7.96l-1.37-1.37c-.4-.4-.92-.59-1.43-.59-.52 0-1.04.2-1.43.59L10.3 9.45l-7.72 7.72c-.78.78-.78 2.05 0 2.83L4 21.41c.39.39.9.59 1.41.59.51 0 1.02-.2 1.41-.59l7.78-7.78 2.81-2.81c.8-.78.8-2.07 0-2.86zM5.41 20L4 18.59l7.72-7.72 1.47 1.35L5.41 20z\"/>\n",
              "  </svg>\n",
              "      </button>\n",
              "      \n",
              "  <style>\n",
              "    .colab-df-container {\n",
              "      display:flex;\n",
              "      flex-wrap:wrap;\n",
              "      gap: 12px;\n",
              "    }\n",
              "\n",
              "    .colab-df-convert {\n",
              "      background-color: #E8F0FE;\n",
              "      border: none;\n",
              "      border-radius: 50%;\n",
              "      cursor: pointer;\n",
              "      display: none;\n",
              "      fill: #1967D2;\n",
              "      height: 32px;\n",
              "      padding: 0 0 0 0;\n",
              "      width: 32px;\n",
              "    }\n",
              "\n",
              "    .colab-df-convert:hover {\n",
              "      background-color: #E2EBFA;\n",
              "      box-shadow: 0px 1px 2px rgba(60, 64, 67, 0.3), 0px 1px 3px 1px rgba(60, 64, 67, 0.15);\n",
              "      fill: #174EA6;\n",
              "    }\n",
              "\n",
              "    [theme=dark] .colab-df-convert {\n",
              "      background-color: #3B4455;\n",
              "      fill: #D2E3FC;\n",
              "    }\n",
              "\n",
              "    [theme=dark] .colab-df-convert:hover {\n",
              "      background-color: #434B5C;\n",
              "      box-shadow: 0px 1px 3px 1px rgba(0, 0, 0, 0.15);\n",
              "      filter: drop-shadow(0px 1px 2px rgba(0, 0, 0, 0.3));\n",
              "      fill: #FFFFFF;\n",
              "    }\n",
              "  </style>\n",
              "\n",
              "      <script>\n",
              "        const buttonEl =\n",
              "          document.querySelector('#df-da70b554-07fd-4f46-a163-271f2b731b6b button.colab-df-convert');\n",
              "        buttonEl.style.display =\n",
              "          google.colab.kernel.accessAllowed ? 'block' : 'none';\n",
              "\n",
              "        async function convertToInteractive(key) {\n",
              "          const element = document.querySelector('#df-da70b554-07fd-4f46-a163-271f2b731b6b');\n",
              "          const dataTable =\n",
              "            await google.colab.kernel.invokeFunction('convertToInteractive',\n",
              "                                                     [key], {});\n",
              "          if (!dataTable) return;\n",
              "\n",
              "          const docLinkHtml = 'Like what you see? Visit the ' +\n",
              "            '<a target=\"_blank\" href=https://colab.research.google.com/notebooks/data_table.ipynb>data table notebook</a>'\n",
              "            + ' to learn more about interactive tables.';\n",
              "          element.innerHTML = '';\n",
              "          dataTable['output_type'] = 'display_data';\n",
              "          await google.colab.output.renderOutput(dataTable, element);\n",
              "          const docLink = document.createElement('div');\n",
              "          docLink.innerHTML = docLinkHtml;\n",
              "          element.appendChild(docLink);\n",
              "        }\n",
              "      </script>\n",
              "    </div>\n",
              "  </div>\n",
              "  "
            ]
          },
          "metadata": {},
          "execution_count": 7
        }
      ]
    },
    {
      "cell_type": "code",
      "source": [
        "df.groupby(['binary_case2']).count()"
      ],
      "metadata": {
        "colab": {
          "base_uri": "https://localhost:8080/",
          "height": 225
        },
        "id": "LXYQITITc-FH",
        "outputId": "99847bb5-c246-46ee-f4a4-bbda812f7555"
      },
      "execution_count": 8,
      "outputs": [
        {
          "output_type": "execute_result",
          "data": {
            "text/plain": [
              "              Socio_Economic Status  Education Status  Age  Sex  Weight_kg  \\\n",
              "binary_case2                                                                 \n",
              "0                                74                74   74   74         74   \n",
              "1                               390               390  390  390        390   \n",
              "\n",
              "              Height_metre  BMI_kg/metre2  Observable_symptom  \\\n",
              "binary_case2                                                    \n",
              "0                       74             74                  74   \n",
              "1                      390            390                 390   \n",
              "\n",
              "              Burning_sensation  Dental_pain  Medical_history  Oral_Habits  \\\n",
              "binary_case2                                                                 \n",
              "0                            74           74               74           74   \n",
              "1                           390          390              390          390   \n",
              "\n",
              "              Exposure_in_yr  Frequency_day  Dietary_Habits  Spicy/Non_Spicy  \n",
              "binary_case2                                                                  \n",
              "0                         74             74              74               74  \n",
              "1                        390            390             390              390  "
            ],
            "text/html": [
              "\n",
              "  <div id=\"df-feb16e8e-abd6-4d37-98fa-f79bd3d95864\">\n",
              "    <div class=\"colab-df-container\">\n",
              "      <div>\n",
              "<style scoped>\n",
              "    .dataframe tbody tr th:only-of-type {\n",
              "        vertical-align: middle;\n",
              "    }\n",
              "\n",
              "    .dataframe tbody tr th {\n",
              "        vertical-align: top;\n",
              "    }\n",
              "\n",
              "    .dataframe thead th {\n",
              "        text-align: right;\n",
              "    }\n",
              "</style>\n",
              "<table border=\"1\" class=\"dataframe\">\n",
              "  <thead>\n",
              "    <tr style=\"text-align: right;\">\n",
              "      <th></th>\n",
              "      <th>Socio_Economic Status</th>\n",
              "      <th>Education Status</th>\n",
              "      <th>Age</th>\n",
              "      <th>Sex</th>\n",
              "      <th>Weight_kg</th>\n",
              "      <th>Height_metre</th>\n",
              "      <th>BMI_kg/metre2</th>\n",
              "      <th>Observable_symptom</th>\n",
              "      <th>Burning_sensation</th>\n",
              "      <th>Dental_pain</th>\n",
              "      <th>Medical_history</th>\n",
              "      <th>Oral_Habits</th>\n",
              "      <th>Exposure_in_yr</th>\n",
              "      <th>Frequency_day</th>\n",
              "      <th>Dietary_Habits</th>\n",
              "      <th>Spicy/Non_Spicy</th>\n",
              "    </tr>\n",
              "    <tr>\n",
              "      <th>binary_case2</th>\n",
              "      <th></th>\n",
              "      <th></th>\n",
              "      <th></th>\n",
              "      <th></th>\n",
              "      <th></th>\n",
              "      <th></th>\n",
              "      <th></th>\n",
              "      <th></th>\n",
              "      <th></th>\n",
              "      <th></th>\n",
              "      <th></th>\n",
              "      <th></th>\n",
              "      <th></th>\n",
              "      <th></th>\n",
              "      <th></th>\n",
              "      <th></th>\n",
              "    </tr>\n",
              "  </thead>\n",
              "  <tbody>\n",
              "    <tr>\n",
              "      <th>0</th>\n",
              "      <td>74</td>\n",
              "      <td>74</td>\n",
              "      <td>74</td>\n",
              "      <td>74</td>\n",
              "      <td>74</td>\n",
              "      <td>74</td>\n",
              "      <td>74</td>\n",
              "      <td>74</td>\n",
              "      <td>74</td>\n",
              "      <td>74</td>\n",
              "      <td>74</td>\n",
              "      <td>74</td>\n",
              "      <td>74</td>\n",
              "      <td>74</td>\n",
              "      <td>74</td>\n",
              "      <td>74</td>\n",
              "    </tr>\n",
              "    <tr>\n",
              "      <th>1</th>\n",
              "      <td>390</td>\n",
              "      <td>390</td>\n",
              "      <td>390</td>\n",
              "      <td>390</td>\n",
              "      <td>390</td>\n",
              "      <td>390</td>\n",
              "      <td>390</td>\n",
              "      <td>390</td>\n",
              "      <td>390</td>\n",
              "      <td>390</td>\n",
              "      <td>390</td>\n",
              "      <td>390</td>\n",
              "      <td>390</td>\n",
              "      <td>390</td>\n",
              "      <td>390</td>\n",
              "      <td>390</td>\n",
              "    </tr>\n",
              "  </tbody>\n",
              "</table>\n",
              "</div>\n",
              "      <button class=\"colab-df-convert\" onclick=\"convertToInteractive('df-feb16e8e-abd6-4d37-98fa-f79bd3d95864')\"\n",
              "              title=\"Convert this dataframe to an interactive table.\"\n",
              "              style=\"display:none;\">\n",
              "        \n",
              "  <svg xmlns=\"http://www.w3.org/2000/svg\" height=\"24px\"viewBox=\"0 0 24 24\"\n",
              "       width=\"24px\">\n",
              "    <path d=\"M0 0h24v24H0V0z\" fill=\"none\"/>\n",
              "    <path d=\"M18.56 5.44l.94 2.06.94-2.06 2.06-.94-2.06-.94-.94-2.06-.94 2.06-2.06.94zm-11 1L8.5 8.5l.94-2.06 2.06-.94-2.06-.94L8.5 2.5l-.94 2.06-2.06.94zm10 10l.94 2.06.94-2.06 2.06-.94-2.06-.94-.94-2.06-.94 2.06-2.06.94z\"/><path d=\"M17.41 7.96l-1.37-1.37c-.4-.4-.92-.59-1.43-.59-.52 0-1.04.2-1.43.59L10.3 9.45l-7.72 7.72c-.78.78-.78 2.05 0 2.83L4 21.41c.39.39.9.59 1.41.59.51 0 1.02-.2 1.41-.59l7.78-7.78 2.81-2.81c.8-.78.8-2.07 0-2.86zM5.41 20L4 18.59l7.72-7.72 1.47 1.35L5.41 20z\"/>\n",
              "  </svg>\n",
              "      </button>\n",
              "      \n",
              "  <style>\n",
              "    .colab-df-container {\n",
              "      display:flex;\n",
              "      flex-wrap:wrap;\n",
              "      gap: 12px;\n",
              "    }\n",
              "\n",
              "    .colab-df-convert {\n",
              "      background-color: #E8F0FE;\n",
              "      border: none;\n",
              "      border-radius: 50%;\n",
              "      cursor: pointer;\n",
              "      display: none;\n",
              "      fill: #1967D2;\n",
              "      height: 32px;\n",
              "      padding: 0 0 0 0;\n",
              "      width: 32px;\n",
              "    }\n",
              "\n",
              "    .colab-df-convert:hover {\n",
              "      background-color: #E2EBFA;\n",
              "      box-shadow: 0px 1px 2px rgba(60, 64, 67, 0.3), 0px 1px 3px 1px rgba(60, 64, 67, 0.15);\n",
              "      fill: #174EA6;\n",
              "    }\n",
              "\n",
              "    [theme=dark] .colab-df-convert {\n",
              "      background-color: #3B4455;\n",
              "      fill: #D2E3FC;\n",
              "    }\n",
              "\n",
              "    [theme=dark] .colab-df-convert:hover {\n",
              "      background-color: #434B5C;\n",
              "      box-shadow: 0px 1px 3px 1px rgba(0, 0, 0, 0.15);\n",
              "      filter: drop-shadow(0px 1px 2px rgba(0, 0, 0, 0.3));\n",
              "      fill: #FFFFFF;\n",
              "    }\n",
              "  </style>\n",
              "\n",
              "      <script>\n",
              "        const buttonEl =\n",
              "          document.querySelector('#df-feb16e8e-abd6-4d37-98fa-f79bd3d95864 button.colab-df-convert');\n",
              "        buttonEl.style.display =\n",
              "          google.colab.kernel.accessAllowed ? 'block' : 'none';\n",
              "\n",
              "        async function convertToInteractive(key) {\n",
              "          const element = document.querySelector('#df-feb16e8e-abd6-4d37-98fa-f79bd3d95864');\n",
              "          const dataTable =\n",
              "            await google.colab.kernel.invokeFunction('convertToInteractive',\n",
              "                                                     [key], {});\n",
              "          if (!dataTable) return;\n",
              "\n",
              "          const docLinkHtml = 'Like what you see? Visit the ' +\n",
              "            '<a target=\"_blank\" href=https://colab.research.google.com/notebooks/data_table.ipynb>data table notebook</a>'\n",
              "            + ' to learn more about interactive tables.';\n",
              "          element.innerHTML = '';\n",
              "          dataTable['output_type'] = 'display_data';\n",
              "          await google.colab.output.renderOutput(dataTable, element);\n",
              "          const docLink = document.createElement('div');\n",
              "          docLink.innerHTML = docLinkHtml;\n",
              "          element.appendChild(docLink);\n",
              "        }\n",
              "      </script>\n",
              "    </div>\n",
              "  </div>\n",
              "  "
            ]
          },
          "metadata": {},
          "execution_count": 8
        }
      ]
    },
    {
      "cell_type": "code",
      "source": [
        "df.drop(df.index[76:374], inplace=True)"
      ],
      "metadata": {
        "id": "PffJjhcmidl_"
      },
      "execution_count": 10,
      "outputs": []
    },
    {
      "cell_type": "code",
      "source": [
        "X = df.iloc[:,:-1]\n",
        "y= df.iloc[:,-1]"
      ],
      "metadata": {
        "id": "rBjf_CtLLLrB"
      },
      "execution_count": 11,
      "outputs": []
    },
    {
      "cell_type": "code",
      "source": [
        "y.shape"
      ],
      "metadata": {
        "colab": {
          "base_uri": "https://localhost:8080/"
        },
        "id": "csCs7xmVd2_m",
        "outputId": "f1f8210e-93a8-45c9-8fb0-123621803145"
      },
      "execution_count": 12,
      "outputs": [
        {
          "output_type": "execute_result",
          "data": {
            "text/plain": [
              "(166,)"
            ]
          },
          "metadata": {},
          "execution_count": 12
        }
      ]
    },
    {
      "cell_type": "markdown",
      "source": [
        "### Feature Selection "
      ],
      "metadata": {
        "id": "JfTphEjcgMIg"
      }
    },
    {
      "cell_type": "code",
      "source": [
        "from sklearn.ensemble import ExtraTreesClassifier\n",
        "import matplotlib.pyplot as plt\n",
        "model = ExtraTreesClassifier()\n",
        "model.fit(X,y)"
      ],
      "metadata": {
        "colab": {
          "base_uri": "https://localhost:8080/"
        },
        "id": "lePdauIw4TBH",
        "outputId": "bfc14ef9-a985-42d7-99ef-d4682a4c15b6"
      },
      "execution_count": 13,
      "outputs": [
        {
          "output_type": "execute_result",
          "data": {
            "text/plain": [
              "ExtraTreesClassifier()"
            ]
          },
          "metadata": {},
          "execution_count": 13
        }
      ]
    },
    {
      "cell_type": "code",
      "source": [
        "print(model.feature_importances_)"
      ],
      "metadata": {
        "colab": {
          "base_uri": "https://localhost:8080/"
        },
        "id": "MNPddSDS4S-i",
        "outputId": "0a0ec0d0-38d3-4192-8a7d-121ddd6af6a1"
      },
      "execution_count": 14,
      "outputs": [
        {
          "output_type": "stream",
          "name": "stdout",
          "text": [
            "[0.05053131 0.0601348  0.16859922 0.03932513 0.14503905 0.14917773\n",
            " 0.14739651 0.03391815 0.0232309  0.02373247 0.02548381 0.0259095\n",
            " 0.0552546  0.05075203 0.00080129 0.00071352]\n"
          ]
        }
      ]
    },
    {
      "cell_type": "code",
      "source": [
        "feat_importances = pd.Series(model.feature_importances_, index=X.columns)\n",
        "feat_importances.nlargest(10).plot(kind='barh')\n",
        "plt.show()"
      ],
      "metadata": {
        "colab": {
          "base_uri": "https://localhost:8080/",
          "height": 265
        },
        "id": "n2yuIdaQ4S7s",
        "outputId": "b0c34e78-82fd-43ed-be7a-e746b0c54090"
      },
      "execution_count": 15,
      "outputs": [
        {
          "output_type": "display_data",
          "data": {
            "text/plain": [
              "<Figure size 432x288 with 1 Axes>"
            ],
            "image/png": "[encoded data removed]"
          },
          "metadata": {
            "needs_background": "light"
          }
        }
      ]
    },
    {
      "cell_type": "code",
      "source": [
        "X=X.drop(['Medical_history'],axis=1)\n",
        "X=X.drop(['Burning_sensation'],axis=1)\n",
        "X=X.drop(['Dental_pain'],axis=1)\n",
        "X=X.drop(['Oral_Habits'],axis=1)\n",
        "X=X.drop(['Dietary_Habits'],axis=1)\n",
        "X=X.drop(['Spicy/Non_Spicy'],axis=1)"
      ],
      "metadata": {
        "id": "qfbZrR3m6T0Q"
      },
      "execution_count": 16,
      "outputs": []
    },
    {
      "cell_type": "markdown",
      "source": [
        "### Standardisation of x label values"
      ],
      "metadata": {
        "id": "MoagMmlsgYXt"
      }
    },
    {
      "cell_type": "code",
      "source": [
        "scaler=StandardScaler()\n",
        "scaler.fit(X)\n",
        "X=scaler.transform(X)"
      ],
      "metadata": {
        "id": "Ad069ZPNLOxW"
      },
      "execution_count": 17,
      "outputs": []
    },
    {
      "cell_type": "code",
      "source": [
        "X.shape"
      ],
      "metadata": {
        "colab": {
          "base_uri": "https://localhost:8080/"
        },
        "id": "BygfDLw26Txs",
        "outputId": "a4cef460-7bff-44f7-c5bb-8a5ecc96d4d2"
      },
      "execution_count": 18,
      "outputs": [
        {
          "output_type": "execute_result",
          "data": {
            "text/plain": [
              "(166, 10)"
            ]
          },
          "metadata": {},
          "execution_count": 18
        }
      ]
    },
    {
      "cell_type": "markdown",
      "source": [
        "## Model Implementation"
      ],
      "metadata": {
        "id": "dDEiX5aOgc_1"
      }
    },
    {
      "cell_type": "markdown",
      "source": [
        "### Random Forests"
      ],
      "metadata": {
        "id": "H97M3FYfPK-t"
      }
    },
    {
      "cell_type": "code",
      "source": [
        "d_trees = np.arange(1, 200)\n",
        "train_accuracy = np.empty(len(d_trees))\n",
        "X_train, X_test, y_train, y_test = train_test_split(X, y, test_size=0.2, random_state=51)\n",
        "for i in (d_trees):\n",
        "    rfc = RandomForestClassifier(n_estimators=i)\n",
        "    rfc.fit(X_train, y_train)\n",
        "     \n",
        "    # Compute training and test data accuracy\n",
        "    y_pred = rfc.predict(X_test)\n",
        "    #metrics.accuracy_score(b_test, y_pred)\n",
        "    train_accuracy[i-1] = metrics.accuracy_score(y_test, y_pred)"
      ],
      "metadata": {
        "id": "aPtvs7Zk6Tu-"
      },
      "execution_count": 19,
      "outputs": []
    },
    {
      "cell_type": "code",
      "source": [
        "plt.plot(d_trees,train_accuracy, label = 'Testing dataset Accuracy')\n",
        "\n",
        " \n",
        "plt.legend()\n",
        "plt.xlabel('No. of Trees')\n",
        "plt.ylabel('Accuracy')\n",
        "\n",
        "plt.show()"
      ],
      "metadata": {
        "colab": {
          "base_uri": "https://localhost:8080/",
          "height": 279
        },
        "id": "jbgq-iu5326U",
        "outputId": "cbde837d-31ee-4171-e2b9-32a9793dac35"
      },
      "execution_count": 20,
      "outputs": [
        {
          "output_type": "display_data",
          "data": {
            "text/plain": [
              "<Figure size 432x288 with 1 Axes>"
            ],
            "image/png": "[encoded data removed]"
          },
          "metadata": {
            "needs_background": "light"
          }
        }
      ]
    },
    {
      "cell_type": "code",
      "source": [
        "clf = RandomForestClassifier(random_state=3)"
      ],
      "metadata": {
        "id": "rYDqaxw0_rkt"
      },
      "execution_count": 37,
      "outputs": []
    },
    {
      "cell_type": "code",
      "source": [
        "score_rf=cross_val_score(clf,X, y,cv=5)\n",
        "print(score_rf)\n",
        "print('avg',np.average(score_rf))"
      ],
      "metadata": {
        "colab": {
          "base_uri": "https://localhost:8080/"
        },
        "id": "xViO858oAIvB",
        "outputId": "6099905b-ef83-447f-a173-e6e2cfca271f"
      },
      "execution_count": 38,
      "outputs": [
        {
          "output_type": "stream",
          "name": "stdout",
          "text": [
            "[0.73529412 0.39393939 0.57575758 0.72727273 0.75757576]\n",
            "avg 0.6379679144385028\n"
          ]
        }
      ]
    },
    {
      "cell_type": "markdown",
      "source": [
        "### Bagging"
      ],
      "metadata": {
        "id": "PAv880WELfec"
      }
    },
    {
      "cell_type": "code",
      "source": [
        "bg = BaggingClassifier(RandomForestClassifier(),max_samples=0.5, max_features=1.0,random_state=2)"
      ],
      "metadata": {
        "id": "9AlHOl5IAe_I"
      },
      "execution_count": 39,
      "outputs": []
    },
    {
      "cell_type": "code",
      "source": [
        "score_rf_=cross_val_score(bg,X, y,cv=5)\n",
        "print(score_rf_)\n",
        "print('avg',np.average(score_rf_))"
      ],
      "metadata": {
        "colab": {
          "base_uri": "https://localhost:8080/"
        },
        "id": "ytE_1qDdAe8a",
        "outputId": "73148c17-a708-4e6c-dbdd-d66f5af182c3"
      },
      "execution_count": 40,
      "outputs": [
        {
          "output_type": "stream",
          "name": "stdout",
          "text": [
            "[0.76470588 0.48484848 0.60606061 0.66666667 0.75757576]\n",
            "avg 0.6559714795008912\n"
          ]
        }
      ]
    },
    {
      "cell_type": "markdown",
      "source": [
        "### Adaboost"
      ],
      "metadata": {
        "id": "LDYAkzk9Lrzu"
      }
    },
    {
      "cell_type": "code",
      "source": [
        "ad = AdaBoostClassifier(RandomForestClassifier(),learning_rate=0.01,random_state=4)"
      ],
      "metadata": {
        "id": "SoIQpc2lLm6d"
      },
      "execution_count": 41,
      "outputs": []
    },
    {
      "cell_type": "code",
      "source": [
        "scorerf_=cross_val_score(ad,X, y,cv=5)\n",
        "print(scorerf_)\n",
        "print('avg',np.average(scorerf_))"
      ],
      "metadata": {
        "colab": {
          "base_uri": "https://localhost:8080/"
        },
        "id": "_S9sLivrL-Mo",
        "outputId": "762f997a-5cd5-4fdf-f12a-53de00ea5762"
      },
      "execution_count": 42,
      "outputs": [
        {
          "output_type": "stream",
          "name": "stdout",
          "text": [
            "[0.64705882 0.36363636 0.54545455 0.72727273 0.72727273]\n",
            "avg 0.6021390374331551\n"
          ]
        }
      ]
    },
    {
      "cell_type": "markdown",
      "source": [
        "### Gradient Boosting"
      ],
      "metadata": {
        "id": "T_GQO2hHMGyG"
      }
    },
    {
      "cell_type": "code",
      "source": [
        "model = GradientBoostingClassifier(random_state=3)"
      ],
      "metadata": {
        "id": "vYwoD43QMB0_"
      },
      "execution_count": 49,
      "outputs": []
    },
    {
      "cell_type": "code",
      "source": [
        "scoe_rf_=cross_val_score(model,X, y,cv=5)\n",
        "print(scoe_rf_)\n",
        "print('avg',np.average(scoe_rf_))"
      ],
      "metadata": {
        "colab": {
          "base_uri": "https://localhost:8080/"
        },
        "id": "tsEDSyyGMLy8",
        "outputId": "401a1734-31e8-44d7-8375-d6f71fda8f18"
      },
      "execution_count": 50,
      "outputs": [
        {
          "output_type": "stream",
          "name": "stdout",
          "text": [
            "[0.55882353 0.42424242 0.57575758 0.66666667 0.60606061]\n",
            "avg 0.5663101604278075\n"
          ]
        }
      ]
    },
    {
      "cell_type": "markdown",
      "source": [
        "### SVM"
      ],
      "metadata": {
        "id": "Dpie4xtJMRsX"
      }
    },
    {
      "cell_type": "code",
      "source": [
        "clf= SVC(kernel='linear',probability=True,random_state=1)"
      ],
      "metadata": {
        "id": "feS2cQJOMN5E"
      },
      "execution_count": 51,
      "outputs": []
    },
    {
      "cell_type": "code",
      "source": [
        "sore_r_f_=cross_val_score(clf,X, y,cv=5)\n",
        "print(sore_r_f_)\n",
        "print('avg',np.average(sore_r_f_))"
      ],
      "metadata": {
        "colab": {
          "base_uri": "https://localhost:8080/"
        },
        "id": "06XHs2IpMVRN",
        "outputId": "6bd9b069-ecbe-4dfa-a708-9c09de0cc822"
      },
      "execution_count": 52,
      "outputs": [
        {
          "output_type": "stream",
          "name": "stdout",
          "text": [
            "[0.67647059 0.54545455 0.72727273 0.63636364 0.75757576]\n",
            "avg 0.6686274509803921\n"
          ]
        }
      ]
    },
    {
      "cell_type": "markdown",
      "source": [
        "### KNN"
      ],
      "metadata": {
        "id": "CumxtFKzMZgn"
      }
    },
    {
      "cell_type": "code",
      "source": [
        "from sklearn.neighbors import KNeighborsClassifier\n",
        "from sklearn.pipeline import Pipeline"
      ],
      "metadata": {
        "id": "EB26uyFzMXOK"
      },
      "execution_count": 53,
      "outputs": []
    },
    {
      "cell_type": "code",
      "source": [
        "modol = KNeighborsClassifier()"
      ],
      "metadata": {
        "id": "6gxY8kWmMc8P"
      },
      "execution_count": 54,
      "outputs": []
    },
    {
      "cell_type": "code",
      "source": [
        "ore_r_f_=cross_val_score(modol,X, y,cv=5)\n",
        "print(ore_r_f_)\n",
        "print('avg',np.average(ore_r_f_))"
      ],
      "metadata": {
        "colab": {
          "base_uri": "https://localhost:8080/"
        },
        "id": "9IIA6PgvMgpL",
        "outputId": "58bd0d98-5687-470a-ca38-0acf8d9d4fda"
      },
      "execution_count": 55,
      "outputs": [
        {
          "output_type": "stream",
          "name": "stdout",
          "text": [
            "[0.47058824 0.51515152 0.60606061 0.6969697  0.54545455]\n",
            "avg 0.5668449197860963\n"
          ]
        }
      ]
    },
    {
      "cell_type": "markdown",
      "source": [
        "### ANN"
      ],
      "metadata": {
        "id": "QJW0uddhQF0w"
      }
    },
    {
      "cell_type": "code",
      "source": [
        "clf_ = MLPClassifier(hidden_layer_sizes=(6,6),\n",
        "                    max_iter = 60,\n",
        "                    random_state=5,\n",
        "                    verbose=True,\n",
        "                    learning_rate_init=0.01)"
      ],
      "metadata": {
        "id": "cJ_3A_U_Szuy"
      },
      "execution_count": 56,
      "outputs": []
    },
    {
      "cell_type": "code",
      "source": [
        "ore_r_f_=cross_val_score(clf_,X, y,cv=5)\n",
        "print(ore_r_f_)\n",
        "print('avg',np.average(ore_r_f_))"
      ],
      "metadata": {
        "id": "wThecs3FS5yE",
        "colab": {
          "base_uri": "https://localhost:8080/"
        },
        "outputId": "07e9cfd1-67a6-4897-d607-a3fc784ed5f2"
      },
      "execution_count": 57,
      "outputs": [
        {
          "output_type": "stream",
          "name": "stdout",
          "text": [
            "Iteration 1, loss = 0.67327762\n",
            "Iteration 2, loss = 0.65857241\n",
            "Iteration 3, loss = 0.64652433\n",
            "Iteration 4, loss = 0.63668957\n",
            "Iteration 5, loss = 0.62787394\n",
            "Iteration 6, loss = 0.62009381\n",
            "Iteration 7, loss = 0.61342244\n",
            "Iteration 8, loss = 0.60732738\n",
            "Iteration 9, loss = 0.60121809\n",
            "Iteration 10, loss = 0.59541543\n",
            "Iteration 11, loss = 0.59002054\n",
            "Iteration 12, loss = 0.58507110\n",
            "Iteration 13, loss = 0.58003614\n",
            "Iteration 14, loss = 0.57464194\n",
            "Iteration 15, loss = 0.56909074\n",
            "Iteration 16, loss = 0.56387376\n",
            "Iteration 17, loss = 0.55887658\n",
            "Iteration 18, loss = 0.55444798\n",
            "Iteration 19, loss = 0.55034732\n",
            "Iteration 20, loss = 0.54640514\n",
            "Iteration 21, loss = 0.54249494\n",
            "Iteration 22, loss = 0.53869359\n",
            "Iteration 23, loss = 0.53489270\n",
            "Iteration 24, loss = 0.53119415\n",
            "Iteration 25, loss = 0.52784002\n",
            "Iteration 26, loss = 0.52440290\n",
            "Iteration 27, loss = 0.52118453\n",
            "Iteration 28, loss = 0.51816286\n",
            "Iteration 29, loss = 0.51482620\n",
            "Iteration 30, loss = 0.51140694\n",
            "Iteration 31, loss = 0.50761768\n",
            "Iteration 32, loss = 0.50394227\n",
            "Iteration 33, loss = 0.50034807\n",
            "Iteration 34, loss = 0.49693873\n",
            "Iteration 35, loss = 0.49363360\n",
            "Iteration 36, loss = 0.49035455\n",
            "Iteration 37, loss = 0.48730310\n",
            "Iteration 38, loss = 0.48407136\n",
            "Iteration 39, loss = 0.48045504\n",
            "Iteration 40, loss = 0.47684934\n",
            "Iteration 41, loss = 0.47329692\n",
            "Iteration 42, loss = 0.46996051\n",
            "Iteration 43, loss = 0.46675279\n",
            "Iteration 44, loss = 0.46334943\n",
            "Iteration 45, loss = 0.46006066\n",
            "Iteration 46, loss = 0.45663577\n",
            "Iteration 47, loss = 0.45321315\n",
            "Iteration 48, loss = 0.44992855\n",
            "Iteration 49, loss = 0.44655390\n",
            "Iteration 50, loss = 0.44314082\n",
            "Iteration 51, loss = 0.43987300\n",
            "Iteration 52, loss = 0.43674287\n",
            "Iteration 53, loss = 0.43371080\n",
            "Iteration 54, loss = 0.43058378\n",
            "Iteration 55, loss = 0.42739970\n",
            "Iteration 56, loss = 0.42441909\n",
            "Iteration 57, loss = 0.42153070\n",
            "Iteration 58, loss = 0.41869135\n",
            "Iteration 59, loss = 0.41605794\n",
            "Iteration 60, loss = 0.41340454\n",
            "Iteration 1, loss = 0.64253495\n",
            "Iteration 2, loss = 0.62511074\n",
            "Iteration 3, loss = 0.61095061\n",
            "Iteration 4, loss = 0.59923941\n",
            "Iteration 5, loss = 0.58988556\n",
            "Iteration 6, loss = 0.58209761\n",
            "Iteration 7, loss = 0.57538379\n",
            "Iteration 8, loss = 0.56844996\n",
            "Iteration 9, loss = 0.56176650\n",
            "Iteration 10, loss = 0.55511512\n",
            "Iteration 11, loss = 0.54841161\n",
            "Iteration 12, loss = 0.54169450\n",
            "Iteration 13, loss = 0.53524845\n",
            "Iteration 14, loss = 0.52910275\n",
            "Iteration 15, loss = 0.52346881\n",
            "Iteration 16, loss = 0.51815188\n",
            "Iteration 17, loss = 0.51349875\n",
            "Iteration 18, loss = 0.50943694\n",
            "Iteration 19, loss = 0.50576216\n",
            "Iteration 20, loss = 0.50283316\n",
            "Iteration 21, loss = 0.50021743\n",
            "Iteration 22, loss = 0.49753096\n",
            "Iteration 23, loss = 0.49491079\n",
            "Iteration 24, loss = 0.49211926\n",
            "Iteration 25, loss = 0.48919255\n",
            "Iteration 26, loss = 0.48609250\n",
            "Iteration 27, loss = 0.48273646\n",
            "Iteration 28, loss = 0.47919242\n",
            "Iteration 29, loss = 0.47577630\n",
            "Iteration 30, loss = 0.47253423\n",
            "Iteration 31, loss = 0.46943499\n",
            "Iteration 32, loss = 0.46655910\n",
            "Iteration 33, loss = 0.46386317\n",
            "Iteration 34, loss = 0.46127820\n",
            "Iteration 35, loss = 0.45888959\n",
            "Iteration 36, loss = 0.45653557\n",
            "Iteration 37, loss = 0.45431114\n",
            "Iteration 38, loss = 0.45213743\n",
            "Iteration 39, loss = 0.44990233\n",
            "Iteration 40, loss = 0.44762885\n",
            "Iteration 41, loss = 0.44543551\n",
            "Iteration 42, loss = 0.44323459\n",
            "Iteration 43, loss = 0.44107220\n",
            "Iteration 44, loss = 0.43892166\n",
            "Iteration 45, loss = 0.43668582\n",
            "Iteration 46, loss = 0.43448164\n",
            "Iteration 47, loss = 0.43231870\n",
            "Iteration 48, loss = 0.43013389\n",
            "Iteration 49, loss = 0.42802508\n",
            "Iteration 50, loss = 0.42595749\n",
            "Iteration 51, loss = 0.42421703\n",
            "Iteration 52, loss = 0.42264701\n",
            "Iteration 53, loss = 0.42091502\n",
            "Iteration 54, loss = 0.41917411\n",
            "Iteration 55, loss = 0.41751525\n",
            "Iteration 56, loss = 0.41592781\n",
            "Iteration 57, loss = 0.41447132\n",
            "Iteration 58, loss = 0.41302209\n",
            "Iteration 59, loss = 0.41152429\n",
            "Iteration 60, loss = 0.41014052\n",
            "Iteration 1, loss = 0.66081792\n",
            "Iteration 2, loss = 0.64263610\n",
            "Iteration 3, loss = 0.62877564\n",
            "Iteration 4, loss = 0.61760752\n"
          ]
        },
        {
          "output_type": "stream",
          "name": "stderr",
          "text": [
            "/usr/local/lib/python3.7/dist-packages/sklearn/neural_network/_multilayer_perceptron.py:696: ConvergenceWarning: Stochastic Optimizer: Maximum iterations (60) reached and the optimization hasn't converged yet.\n",
            "  ConvergenceWarning,\n",
            "/usr/local/lib/python3.7/dist-packages/sklearn/neural_network/_multilayer_perceptron.py:696: ConvergenceWarning: Stochastic Optimizer: Maximum iterations (60) reached and the optimization hasn't converged yet.\n",
            "  ConvergenceWarning,\n"
          ]
        },
        {
          "output_type": "stream",
          "name": "stdout",
          "text": [
            "Iteration 5, loss = 0.60742907\n",
            "Iteration 6, loss = 0.59887667\n",
            "Iteration 7, loss = 0.59165908\n",
            "Iteration 8, loss = 0.58501462\n",
            "Iteration 9, loss = 0.57921611\n",
            "Iteration 10, loss = 0.57349029\n",
            "Iteration 11, loss = 0.56792237\n",
            "Iteration 12, loss = 0.56240562\n",
            "Iteration 13, loss = 0.55681025\n",
            "Iteration 14, loss = 0.55121209\n",
            "Iteration 15, loss = 0.54599072\n",
            "Iteration 16, loss = 0.54087641\n",
            "Iteration 17, loss = 0.53594267\n",
            "Iteration 18, loss = 0.53157025\n",
            "Iteration 19, loss = 0.52769016\n",
            "Iteration 20, loss = 0.52405313\n",
            "Iteration 21, loss = 0.52065712\n",
            "Iteration 22, loss = 0.51756182\n",
            "Iteration 23, loss = 0.51435230\n",
            "Iteration 24, loss = 0.51094974\n",
            "Iteration 25, loss = 0.50732353\n",
            "Iteration 26, loss = 0.50368925\n",
            "Iteration 27, loss = 0.50010731\n",
            "Iteration 28, loss = 0.49648107\n",
            "Iteration 29, loss = 0.49273210\n",
            "Iteration 30, loss = 0.48897749\n",
            "Iteration 31, loss = 0.48525325\n",
            "Iteration 32, loss = 0.48155839\n",
            "Iteration 33, loss = 0.47820442\n",
            "Iteration 34, loss = 0.47498686\n",
            "Iteration 35, loss = 0.47198221\n",
            "Iteration 36, loss = 0.46935362\n",
            "Iteration 37, loss = 0.46674627\n",
            "Iteration 38, loss = 0.46430100\n",
            "Iteration 39, loss = 0.46179341\n",
            "Iteration 40, loss = 0.45947830\n",
            "Iteration 41, loss = 0.45717283\n",
            "Iteration 42, loss = 0.45507630\n",
            "Iteration 43, loss = 0.45300555\n",
            "Iteration 44, loss = 0.45094297\n",
            "Iteration 45, loss = 0.44888653\n",
            "Iteration 46, loss = 0.44686827\n",
            "Iteration 47, loss = 0.44471183\n",
            "Iteration 48, loss = 0.44247257\n",
            "Iteration 49, loss = 0.44011637\n",
            "Iteration 50, loss = 0.43774409\n",
            "Iteration 51, loss = 0.43542551\n",
            "Iteration 52, loss = 0.43311405\n",
            "Iteration 53, loss = 0.43103475\n",
            "Iteration 54, loss = 0.42903056\n",
            "Iteration 55, loss = 0.42697843\n",
            "Iteration 56, loss = 0.42495137\n",
            "Iteration 57, loss = 0.42294314\n",
            "Iteration 58, loss = 0.42096573\n",
            "Iteration 59, loss = 0.41901354\n",
            "Iteration 60, loss = 0.41699451\n",
            "Iteration 1, loss = 0.68535716\n",
            "Iteration 2, loss = 0.66856353\n",
            "Iteration 3, loss = 0.65495428\n",
            "Iteration 4, loss = 0.64460971\n",
            "Iteration 5, loss = 0.63509498\n",
            "Iteration 6, loss = 0.62699361\n",
            "Iteration 7, loss = 0.62031137\n",
            "Iteration 8, loss = 0.61455286\n",
            "Iteration 9, loss = 0.60884913\n",
            "Iteration 10, loss = 0.60367274\n",
            "Iteration 11, loss = 0.59916036\n",
            "Iteration 12, loss = 0.59473686\n",
            "Iteration 13, loss = 0.59002542\n",
            "Iteration 14, loss = 0.58504946\n",
            "Iteration 15, loss = 0.58020024\n",
            "Iteration 16, loss = 0.57578572\n",
            "Iteration 17, loss = 0.57154958\n",
            "Iteration 18, loss = 0.56725815\n",
            "Iteration 19, loss = 0.56319462\n",
            "Iteration 20, loss = 0.55928578\n",
            "Iteration 21, loss = 0.55509832\n",
            "Iteration 22, loss = 0.55104846\n",
            "Iteration 23, loss = 0.54713074\n",
            "Iteration 24, loss = 0.54304580\n",
            "Iteration 25, loss = 0.53912107\n",
            "Iteration 26, loss = 0.53556704\n",
            "Iteration 27, loss = 0.53230574\n",
            "Iteration 28, loss = 0.52912400\n",
            "Iteration 29, loss = 0.52588389\n",
            "Iteration 30, loss = 0.52265142\n",
            "Iteration 31, loss = 0.51952031\n",
            "Iteration 32, loss = 0.51647960\n",
            "Iteration 33, loss = 0.51358583\n",
            "Iteration 34, loss = 0.51086299\n",
            "Iteration 35, loss = 0.50790616\n",
            "Iteration 36, loss = 0.50496741\n",
            "Iteration 37, loss = 0.50188642\n",
            "Iteration 38, loss = 0.49879612\n",
            "Iteration 39, loss = 0.49579826\n",
            "Iteration 40, loss = 0.49273254\n",
            "Iteration 41, loss = 0.48924940\n",
            "Iteration 42, loss = 0.48595031\n",
            "Iteration 43, loss = 0.48283802\n",
            "Iteration 44, loss = 0.47971181\n",
            "Iteration 45, loss = 0.47659050\n",
            "Iteration 46, loss = 0.47348506\n",
            "Iteration 47, loss = 0.47066784\n",
            "Iteration 48, loss = 0.46786474\n",
            "Iteration 49, loss = 0.46499388\n",
            "Iteration 50, loss = 0.46201940\n",
            "Iteration 51, loss = 0.45901694\n",
            "Iteration 52, loss = 0.45622809\n",
            "Iteration 53, loss = 0.45336228\n",
            "Iteration 54, loss = 0.45039122\n",
            "Iteration 55, loss = 0.44719596\n",
            "Iteration 56, loss = 0.44394674\n",
            "Iteration 57, loss = 0.44071007\n"
          ]
        },
        {
          "output_type": "stream",
          "name": "stderr",
          "text": [
            "/usr/local/lib/python3.7/dist-packages/sklearn/neural_network/_multilayer_perceptron.py:696: ConvergenceWarning: Stochastic Optimizer: Maximum iterations (60) reached and the optimization hasn't converged yet.\n",
            "  ConvergenceWarning,\n",
            "/usr/local/lib/python3.7/dist-packages/sklearn/neural_network/_multilayer_perceptron.py:696: ConvergenceWarning: Stochastic Optimizer: Maximum iterations (60) reached and the optimization hasn't converged yet.\n",
            "  ConvergenceWarning,\n"
          ]
        },
        {
          "output_type": "stream",
          "name": "stdout",
          "text": [
            "Iteration 58, loss = 0.43744644\n",
            "Iteration 59, loss = 0.43470973\n",
            "Iteration 60, loss = 0.43189150\n",
            "Iteration 1, loss = 0.66655954\n",
            "Iteration 2, loss = 0.64900017\n",
            "Iteration 3, loss = 0.63523589\n",
            "Iteration 4, loss = 0.62430231\n",
            "Iteration 5, loss = 0.61481603\n",
            "Iteration 6, loss = 0.60772682\n",
            "Iteration 7, loss = 0.60199341\n",
            "Iteration 8, loss = 0.59669002\n",
            "Iteration 9, loss = 0.59206846\n",
            "Iteration 10, loss = 0.58793213\n",
            "Iteration 11, loss = 0.58397371\n",
            "Iteration 12, loss = 0.57962898\n",
            "Iteration 13, loss = 0.57547540\n",
            "Iteration 14, loss = 0.57175121\n",
            "Iteration 15, loss = 0.56798586\n",
            "Iteration 16, loss = 0.56405692\n",
            "Iteration 17, loss = 0.55999693\n",
            "Iteration 18, loss = 0.55619846\n",
            "Iteration 19, loss = 0.55269253\n",
            "Iteration 20, loss = 0.54993936\n",
            "Iteration 21, loss = 0.54736302\n",
            "Iteration 22, loss = 0.54490856\n",
            "Iteration 23, loss = 0.54257763\n",
            "Iteration 24, loss = 0.54022895\n",
            "Iteration 25, loss = 0.53768838\n",
            "Iteration 26, loss = 0.53530780\n",
            "Iteration 27, loss = 0.53279300\n",
            "Iteration 28, loss = 0.52993900\n",
            "Iteration 29, loss = 0.52696975\n",
            "Iteration 30, loss = 0.52380343\n",
            "Iteration 31, loss = 0.52063093\n",
            "Iteration 32, loss = 0.51757644\n",
            "Iteration 33, loss = 0.51468910\n",
            "Iteration 34, loss = 0.51200250\n",
            "Iteration 35, loss = 0.50955184\n",
            "Iteration 36, loss = 0.50719196\n",
            "Iteration 37, loss = 0.50464433\n",
            "Iteration 38, loss = 0.50191661\n",
            "Iteration 39, loss = 0.49920456\n",
            "Iteration 40, loss = 0.49661455\n",
            "Iteration 41, loss = 0.49402898\n",
            "Iteration 42, loss = 0.49139313\n",
            "Iteration 43, loss = 0.48882676\n",
            "Iteration 44, loss = 0.48647544\n",
            "Iteration 45, loss = 0.48423393\n",
            "Iteration 46, loss = 0.48204264\n",
            "Iteration 47, loss = 0.48011677\n",
            "Iteration 48, loss = 0.47800872\n",
            "Iteration 49, loss = 0.47588548\n",
            "Iteration 50, loss = 0.47361121\n",
            "Iteration 51, loss = 0.47128605\n",
            "Iteration 52, loss = 0.46894591\n",
            "Iteration 53, loss = 0.46670316\n",
            "Iteration 54, loss = 0.46441676\n",
            "Iteration 55, loss = 0.46209416\n",
            "Iteration 56, loss = 0.45984372\n",
            "Iteration 57, loss = 0.45741193\n",
            "Iteration 58, loss = 0.45479736\n",
            "Iteration 59, loss = 0.45221947\n",
            "Iteration 60, loss = 0.44953174\n",
            "[0.67647059 0.42424242 0.66666667 0.72727273 0.6969697 ]\n",
            "avg 0.638324420677362\n"
          ]
        },
        {
          "output_type": "stream",
          "name": "stderr",
          "text": [
            "/usr/local/lib/python3.7/dist-packages/sklearn/neural_network/_multilayer_perceptron.py:696: ConvergenceWarning: Stochastic Optimizer: Maximum iterations (60) reached and the optimization hasn't converged yet.\n",
            "  ConvergenceWarning,\n"
          ]
        }
      ]
    },
    {
      "cell_type": "code",
      "source": [
        ""
      ],
      "metadata": {
        "id": "EWkRNSPHfDUM"
      },
      "execution_count": 57,
      "outputs": []
    }
  ]
}