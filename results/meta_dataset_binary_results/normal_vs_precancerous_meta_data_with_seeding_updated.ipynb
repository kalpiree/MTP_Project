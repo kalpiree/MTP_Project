{
  "nbformat": 4,
  "nbformat_minor": 0,
  "metadata": {
    "colab": {
      "name": "normal_vs_precancerous_meta_data_with_seeding_updated.ipynb",
      "provenance": [],
      "collapsed_sections": []
    },
    "kernelspec": {
      "name": "python3",
      "display_name": "Python 3"
    },
    "language_info": {
      "name": "python"
    }
  },
  "cells": [
    {
      "cell_type": "markdown",
      "source": [
        "# Malignant vs All"
      ],
      "metadata": {
        "id": "_rgfOGyOgrG-"
      }
    },
    {
      "cell_type": "markdown",
      "source": [
        "## Importing libraries"
      ],
      "metadata": {
        "id": "jkNWpYTPfSj6"
      }
    },
    {
      "cell_type": "code",
      "execution_count": 1,
      "metadata": {
        "id": "dNSbJkNkKkpM"
      },
      "outputs": [],
      "source": [
        "# Importing required libraries\n",
        "import pandas as pd  \n",
        "import numpy as np\n",
        "import matplotlib.pyplot as plt\n",
        "import matplotlib.image as mpimg\n",
        "from matplotlib import style\n",
        "import seaborn as sns\n",
        "from sklearn.preprocessing import StandardScaler\n",
        "from sklearn.decomposition import PCA\n",
        "from sklearn.model_selection import (\n",
        "    train_test_split,\n",
        "    TimeSeriesSplit,\n",
        "    KFold,\n",
        "    StratifiedKFold,\n",
        "    GroupKFold,\n",
        "    StratifiedGroupKFold,\n",
        ")\n",
        "from sklearn.ensemble import RandomForestClassifier\n",
        "from sklearn import metrics\n",
        "from sklearn.model_selection import validation_curve\n",
        "from sklearn.metrics import accuracy_score, roc_auc_score\n",
        "from sklearn.svm import SVC\n",
        "from sklearn.model_selection import cross_val_score\n",
        "\n",
        "# evaluate a logistic regression model using k-fold cross-validation\n",
        "from numpy import mean\n",
        "from numpy import std\n",
        "from sklearn.ensemble import GradientBoostingClassifier\n",
        "from sklearn.metrics import accuracy_score\n",
        "from sklearn.ensemble import RandomForestClassifier, BaggingClassifier, AdaBoostClassifier, VotingClassifier\n",
        "from sklearn.neural_network import MLPClassifier"
      ]
    },
    {
      "cell_type": "markdown",
      "source": [
        "## Uploading file"
      ],
      "metadata": {
        "id": "TOEbFBsbfZzS"
      }
    },
    {
      "cell_type": "code",
      "source": [
        "# Read in data and display first 5 rows\n",
        "df = pd.read_csv (r'/content/clinical_data.csv')\n",
        "df.head()"
      ],
      "metadata": {
        "colab": {
          "base_uri": "https://localhost:8080/",
          "height": 287
        },
        "id": "c3TWUykMKt4O",
        "outputId": "bdd4dc77-ace0-485d-d8a5-234470bdeb26"
      },
      "execution_count": 2,
      "outputs": [
        {
          "output_type": "execute_result",
          "data": {
            "text/plain": [
              "  Patient ID Socio_Economic Status Education Status   Age Sex  Weight_kg  \\\n",
              "0      P0215                     L               NE  30.0   F       35.0   \n",
              "1      P0216                     L               NE  55.0   M       49.0   \n",
              "2      P0218                     L               BE  51.0   F       45.0   \n",
              "3      P0221                     L                E  32.0   F       47.0   \n",
              "4      P0222                     M                E  46.0   M       59.0   \n",
              "\n",
              "   Height_metre  BMI_kg/metre2 Observable_symptom Burning_sensation  \\\n",
              "0          1.42      17.357667                Yes                No   \n",
              "1          1.57      19.879103                Yes                No   \n",
              "2          1.53      19.223376                Yes                No   \n",
              "3          1.52      20.342798                Yes                No   \n",
              "4          1.68      20.904195                Yes                No   \n",
              "\n",
              "  Dental_pain Medical_history Oral_Habits  Exposure_in_yr  Frequency_day  \\\n",
              "0          No              No         Yes               2              2   \n",
              "1          No              No         Yes               2              2   \n",
              "2          No              No          No               0              0   \n",
              "3          No              No          No               1              1   \n",
              "4          No              No         Yes               2              2   \n",
              "\n",
              "  Dietary_Habits Spicy/Non_Spicy Subject_Tag binary_case1 binary_case2  \n",
              "0             NV               S   Malignant            M            M  \n",
              "1             NV               S   Malignant            M            M  \n",
              "2             NV               S   Malignant            M            M  \n",
              "3             NV               S   Malignant            M            M  \n",
              "4             NV               S   Malignant            M            M  "
            ],
            "text/html": [
              "\n",
              "  <div id=\"df-6fa03e8a-896f-401b-b820-7629e95c41c2\">\n",
              "    <div class=\"colab-df-container\">\n",
              "      <div>\n",
              "<style scoped>\n",
              "    .dataframe tbody tr th:only-of-type {\n",
              "        vertical-align: middle;\n",
              "    }\n",
              "\n",
              "    .dataframe tbody tr th {\n",
              "        vertical-align: top;\n",
              "    }\n",
              "\n",
              "    .dataframe thead th {\n",
              "        text-align: right;\n",
              "    }\n",
              "</style>\n",
              "<table border=\"1\" class=\"dataframe\">\n",
              "  <thead>\n",
              "    <tr style=\"text-align: right;\">\n",
              "      <th></th>\n",
              "      <th>Patient ID</th>\n",
              "      <th>Socio_Economic Status</th>\n",
              "      <th>Education Status</th>\n",
              "      <th>Age</th>\n",
              "      <th>Sex</th>\n",
              "      <th>Weight_kg</th>\n",
              "      <th>Height_metre</th>\n",
              "      <th>BMI_kg/metre2</th>\n",
              "      <th>Observable_symptom</th>\n",
              "      <th>Burning_sensation</th>\n",
              "      <th>Dental_pain</th>\n",
              "      <th>Medical_history</th>\n",
              "      <th>Oral_Habits</th>\n",
              "      <th>Exposure_in_yr</th>\n",
              "      <th>Frequency_day</th>\n",
              "      <th>Dietary_Habits</th>\n",
              "      <th>Spicy/Non_Spicy</th>\n",
              "      <th>Subject_Tag</th>\n",
              "      <th>binary_case1</th>\n",
              "      <th>binary_case2</th>\n",
              "    </tr>\n",
              "  </thead>\n",
              "  <tbody>\n",
              "    <tr>\n",
              "      <th>0</th>\n",
              "      <td>P0215</td>\n",
              "      <td>L</td>\n",
              "      <td>NE</td>\n",
              "      <td>30.0</td>\n",
              "      <td>F</td>\n",
              "      <td>35.0</td>\n",
              "      <td>1.42</td>\n",
              "      <td>17.357667</td>\n",
              "      <td>Yes</td>\n",
              "      <td>No</td>\n",
              "      <td>No</td>\n",
              "      <td>No</td>\n",
              "      <td>Yes</td>\n",
              "      <td>2</td>\n",
              "      <td>2</td>\n",
              "      <td>NV</td>\n",
              "      <td>S</td>\n",
              "      <td>Malignant</td>\n",
              "      <td>M</td>\n",
              "      <td>M</td>\n",
              "    </tr>\n",
              "    <tr>\n",
              "      <th>1</th>\n",
              "      <td>P0216</td>\n",
              "      <td>L</td>\n",
              "      <td>NE</td>\n",
              "      <td>55.0</td>\n",
              "      <td>M</td>\n",
              "      <td>49.0</td>\n",
              "      <td>1.57</td>\n",
              "      <td>19.879103</td>\n",
              "      <td>Yes</td>\n",
              "      <td>No</td>\n",
              "      <td>No</td>\n",
              "      <td>No</td>\n",
              "      <td>Yes</td>\n",
              "      <td>2</td>\n",
              "      <td>2</td>\n",
              "      <td>NV</td>\n",
              "      <td>S</td>\n",
              "      <td>Malignant</td>\n",
              "      <td>M</td>\n",
              "      <td>M</td>\n",
              "    </tr>\n",
              "    <tr>\n",
              "      <th>2</th>\n",
              "      <td>P0218</td>\n",
              "      <td>L</td>\n",
              "      <td>BE</td>\n",
              "      <td>51.0</td>\n",
              "      <td>F</td>\n",
              "      <td>45.0</td>\n",
              "      <td>1.53</td>\n",
              "      <td>19.223376</td>\n",
              "      <td>Yes</td>\n",
              "      <td>No</td>\n",
              "      <td>No</td>\n",
              "      <td>No</td>\n",
              "      <td>No</td>\n",
              "      <td>0</td>\n",
              "      <td>0</td>\n",
              "      <td>NV</td>\n",
              "      <td>S</td>\n",
              "      <td>Malignant</td>\n",
              "      <td>M</td>\n",
              "      <td>M</td>\n",
              "    </tr>\n",
              "    <tr>\n",
              "      <th>3</th>\n",
              "      <td>P0221</td>\n",
              "      <td>L</td>\n",
              "      <td>E</td>\n",
              "      <td>32.0</td>\n",
              "      <td>F</td>\n",
              "      <td>47.0</td>\n",
              "      <td>1.52</td>\n",
              "      <td>20.342798</td>\n",
              "      <td>Yes</td>\n",
              "      <td>No</td>\n",
              "      <td>No</td>\n",
              "      <td>No</td>\n",
              "      <td>No</td>\n",
              "      <td>1</td>\n",
              "      <td>1</td>\n",
              "      <td>NV</td>\n",
              "      <td>S</td>\n",
              "      <td>Malignant</td>\n",
              "      <td>M</td>\n",
              "      <td>M</td>\n",
              "    </tr>\n",
              "    <tr>\n",
              "      <th>4</th>\n",
              "      <td>P0222</td>\n",
              "      <td>M</td>\n",
              "      <td>E</td>\n",
              "      <td>46.0</td>\n",
              "      <td>M</td>\n",
              "      <td>59.0</td>\n",
              "      <td>1.68</td>\n",
              "      <td>20.904195</td>\n",
              "      <td>Yes</td>\n",
              "      <td>No</td>\n",
              "      <td>No</td>\n",
              "      <td>No</td>\n",
              "      <td>Yes</td>\n",
              "      <td>2</td>\n",
              "      <td>2</td>\n",
              "      <td>NV</td>\n",
              "      <td>S</td>\n",
              "      <td>Malignant</td>\n",
              "      <td>M</td>\n",
              "      <td>M</td>\n",
              "    </tr>\n",
              "  </tbody>\n",
              "</table>\n",
              "</div>\n",
              "      <button class=\"colab-df-convert\" onclick=\"convertToInteractive('df-6fa03e8a-896f-401b-b820-7629e95c41c2')\"\n",
              "              title=\"Convert this dataframe to an interactive table.\"\n",
              "              style=\"display:none;\">\n",
              "        \n",
              "  <svg xmlns=\"http://www.w3.org/2000/svg\" height=\"24px\"viewBox=\"0 0 24 24\"\n",
              "       width=\"24px\">\n",
              "    <path d=\"M0 0h24v24H0V0z\" fill=\"none\"/>\n",
              "    <path d=\"M18.56 5.44l.94 2.06.94-2.06 2.06-.94-2.06-.94-.94-2.06-.94 2.06-2.06.94zm-11 1L8.5 8.5l.94-2.06 2.06-.94-2.06-.94L8.5 2.5l-.94 2.06-2.06.94zm10 10l.94 2.06.94-2.06 2.06-.94-2.06-.94-.94-2.06-.94 2.06-2.06.94z\"/><path d=\"M17.41 7.96l-1.37-1.37c-.4-.4-.92-.59-1.43-.59-.52 0-1.04.2-1.43.59L10.3 9.45l-7.72 7.72c-.78.78-.78 2.05 0 2.83L4 21.41c.39.39.9.59 1.41.59.51 0 1.02-.2 1.41-.59l7.78-7.78 2.81-2.81c.8-.78.8-2.07 0-2.86zM5.41 20L4 18.59l7.72-7.72 1.47 1.35L5.41 20z\"/>\n",
              "  </svg>\n",
              "      </button>\n",
              "      \n",
              "  <style>\n",
              "    .colab-df-container {\n",
              "      display:flex;\n",
              "      flex-wrap:wrap;\n",
              "      gap: 12px;\n",
              "    }\n",
              "\n",
              "    .colab-df-convert {\n",
              "      background-color: #E8F0FE;\n",
              "      border: none;\n",
              "      border-radius: 50%;\n",
              "      cursor: pointer;\n",
              "      display: none;\n",
              "      fill: #1967D2;\n",
              "      height: 32px;\n",
              "      padding: 0 0 0 0;\n",
              "      width: 32px;\n",
              "    }\n",
              "\n",
              "    .colab-df-convert:hover {\n",
              "      background-color: #E2EBFA;\n",
              "      box-shadow: 0px 1px 2px rgba(60, 64, 67, 0.3), 0px 1px 3px 1px rgba(60, 64, 67, 0.15);\n",
              "      fill: #174EA6;\n",
              "    }\n",
              "\n",
              "    [theme=dark] .colab-df-convert {\n",
              "      background-color: #3B4455;\n",
              "      fill: #D2E3FC;\n",
              "    }\n",
              "\n",
              "    [theme=dark] .colab-df-convert:hover {\n",
              "      background-color: #434B5C;\n",
              "      box-shadow: 0px 1px 3px 1px rgba(0, 0, 0, 0.15);\n",
              "      filter: drop-shadow(0px 1px 2px rgba(0, 0, 0, 0.3));\n",
              "      fill: #FFFFFF;\n",
              "    }\n",
              "  </style>\n",
              "\n",
              "      <script>\n",
              "        const buttonEl =\n",
              "          document.querySelector('#df-6fa03e8a-896f-401b-b820-7629e95c41c2 button.colab-df-convert');\n",
              "        buttonEl.style.display =\n",
              "          google.colab.kernel.accessAllowed ? 'block' : 'none';\n",
              "\n",
              "        async function convertToInteractive(key) {\n",
              "          const element = document.querySelector('#df-6fa03e8a-896f-401b-b820-7629e95c41c2');\n",
              "          const dataTable =\n",
              "            await google.colab.kernel.invokeFunction('convertToInteractive',\n",
              "                                                     [key], {});\n",
              "          if (!dataTable) return;\n",
              "\n",
              "          const docLinkHtml = 'Like what you see? Visit the ' +\n",
              "            '<a target=\"_blank\" href=https://colab.research.google.com/notebooks/data_table.ipynb>data table notebook</a>'\n",
              "            + ' to learn more about interactive tables.';\n",
              "          element.innerHTML = '';\n",
              "          dataTable['output_type'] = 'display_data';\n",
              "          await google.colab.output.renderOutput(dataTable, element);\n",
              "          const docLink = document.createElement('div');\n",
              "          docLink.innerHTML = docLinkHtml;\n",
              "          element.appendChild(docLink);\n",
              "        }\n",
              "      </script>\n",
              "    </div>\n",
              "  </div>\n",
              "  "
            ]
          },
          "metadata": {},
          "execution_count": 2
        }
      ]
    },
    {
      "cell_type": "markdown",
      "source": [
        "## Label Encoding"
      ],
      "metadata": {
        "id": "DaZJCe1pfgJa"
      }
    },
    {
      "cell_type": "code",
      "source": [
        "from sklearn import preprocessing\n",
        "# Creating labelEncoder\n",
        "le = preprocessing.LabelEncoder()\n",
        "# Converting string labels into numbers.\n",
        "df['Socio_Economic Status']=le.fit_transform(df['Socio_Economic Status'])\n",
        "df['Education Status']=le.fit_transform(df['Education Status'])\n",
        "df['Sex']=le.fit_transform(df['Sex'])\n",
        "df['Education Status']=le.fit_transform(df['Education Status'])\n",
        "df['Observable_symptom']=le.fit_transform(df['Observable_symptom'])\n",
        "df['Burning_sensation']=le.fit_transform(df['Burning_sensation'])\n",
        "df['Observable_symptom']=le.fit_transform(df['Observable_symptom'])\n",
        "df['Dental_pain']=le.fit_transform(df['Dental_pain'])\n",
        "df['Medical_history']=le.fit_transform(df['Medical_history'])\n",
        "df['Oral_Habits']=le.fit_transform(df['Oral_Habits'])\n",
        "df['Dietary_Habits']=le.fit_transform(df['Dietary_Habits'])\n",
        "df['Spicy/Non_Spicy']=le.fit_transform(df['Spicy/Non_Spicy'])\n",
        "df['Subject_Tag']=le.fit_transform(df['Subject_Tag'])\n",
        "df['binary_case1']=le.fit_transform(df['binary_case1'])\n",
        "df['binary_case2']=le.fit_transform(df['binary_case2'])"
      ],
      "metadata": {
        "id": "mzX1EWWwK6b5"
      },
      "execution_count": 3,
      "outputs": []
    },
    {
      "cell_type": "markdown",
      "source": [
        "## Data Preprocessing"
      ],
      "metadata": {
        "id": "CkhYXQ34fkx4"
      }
    },
    {
      "cell_type": "markdown",
      "source": [
        "### Filling NaN values"
      ],
      "metadata": {
        "id": "6YlQdlr-fo3W"
      }
    },
    {
      "cell_type": "code",
      "source": [
        "# DATA PREPROCESSING\n",
        "# filling the unavailable categorical data with mode\n",
        "col = df.columns.values.tolist()\n",
        "#df_y.fillna(value=df_y.median(), inplace = True)\n",
        "categorical = [\"Socio_Economic Status\",\"Education Status\",\"Sex\", \"Observable_symptom\",\"Burning_sensation\",\"Dental_pain\",\"Medical_history\",\"Oral_Habits\",\"Dietary_Habits\",\"Spicy/Non_Spicy\"]\n",
        "#for c in col:\n",
        " # if c not in categorical:\n",
        "  #  datainput[c].fillna(value=datainput[c].median(), inplace=True)\n",
        "for c in categorical:\n",
        "  df[c] = df[c].fillna(value=df[c].mode()[0])"
      ],
      "metadata": {
        "id": "Bi1RngO0K9HI"
      },
      "execution_count": 4,
      "outputs": []
    },
    {
      "cell_type": "code",
      "source": [
        "numerical =[\"Age\",\"Weight_kg\",\"Height_metre\",\"BMI_kg/metre2\"]\n",
        "for c in numerical:\n",
        " df[c].fillna(value=df[c].median(), inplace=True)"
      ],
      "metadata": {
        "id": "MbN9mrd8K_uH"
      },
      "execution_count": 5,
      "outputs": []
    },
    {
      "cell_type": "markdown",
      "source": [
        "### Dropping non-useful x labels"
      ],
      "metadata": {
        "id": "mJZx9Xavfuji"
      }
    },
    {
      "cell_type": "code",
      "source": [
        "df=df.drop(['Subject_Tag'],axis=1)\n",
        "df=df.drop(['binary_case2'],axis=1)\n",
        "df=df.drop(['Patient ID'],axis=1)"
      ],
      "metadata": {
        "id": "s8s7Lt_FLETv"
      },
      "execution_count": 6,
      "outputs": []
    },
    {
      "cell_type": "code",
      "source": [
        "df"
      ],
      "metadata": {
        "id": "btxvitQGLH3q",
        "colab": {
          "base_uri": "https://localhost:8080/",
          "height": 505
        },
        "outputId": "7965a6a2-34e6-45b1-da22-d9b53ebc4f19"
      },
      "execution_count": 7,
      "outputs": [
        {
          "output_type": "execute_result",
          "data": {
            "text/plain": [
              "     Socio_Economic Status  Education Status   Age  Sex  Weight_kg  \\\n",
              "0                        1                 2  30.0    0       35.0   \n",
              "1                        1                 2  55.0    1       49.0   \n",
              "2                        1                 0  51.0    0       45.0   \n",
              "3                        1                 1  32.0    0       47.0   \n",
              "4                        2                 1  46.0    1       59.0   \n",
              "..                     ...               ...   ...  ...        ...   \n",
              "459                      1                 3  55.0    0       55.0   \n",
              "460                      2                 1  30.0    1       58.0   \n",
              "461                      2                 1  37.0    1       60.0   \n",
              "462                      1                 0  58.0    1       46.0   \n",
              "463                      1                 0  28.0    1       58.0   \n",
              "\n",
              "     Height_metre  BMI_kg/metre2  Observable_symptom  Burning_sensation  \\\n",
              "0            1.42      17.357667                   1                  0   \n",
              "1            1.57      19.879103                   1                  0   \n",
              "2            1.53      19.223376                   1                  0   \n",
              "3            1.52      20.342798                   1                  0   \n",
              "4            1.68      20.904195                   1                  0   \n",
              "..            ...            ...                 ...                ...   \n",
              "459          1.42      27.276334                   1                  0   \n",
              "460          1.66      21.048048                   1                  0   \n",
              "461          1.72      20.281233                   1                  1   \n",
              "462          1.66      16.693279                   1                  0   \n",
              "463          1.63      21.829952                   1                  1   \n",
              "\n",
              "     Dental_pain  Medical_history  Oral_Habits  Exposure_in_yr  Frequency_day  \\\n",
              "0              0                0            1               2              2   \n",
              "1              0                0            1               2              2   \n",
              "2              0                0            0               0              0   \n",
              "3              0                0            0               1              1   \n",
              "4              0                0            1               2              2   \n",
              "..           ...              ...          ...             ...            ...   \n",
              "459            0                0            0               0              0   \n",
              "460            0                0            1               2              2   \n",
              "461            0                0            1               2              2   \n",
              "462            0                0            1               2              2   \n",
              "463            0                0            0               0              0   \n",
              "\n",
              "     Dietary_Habits  Spicy/Non_Spicy  binary_case1  \n",
              "0                 0                1             0  \n",
              "1                 0                1             0  \n",
              "2                 0                1             0  \n",
              "3                 0                1             0  \n",
              "4                 0                1             0  \n",
              "..              ...              ...           ...  \n",
              "459               0                1             0  \n",
              "460               0                1             0  \n",
              "461               0                1             0  \n",
              "462               0                1             0  \n",
              "463               0                1             0  \n",
              "\n",
              "[464 rows x 17 columns]"
            ],
            "text/html": [
              "\n",
              "  <div id=\"df-06f17bf3-032b-475e-a83e-3b685c99eaf7\">\n",
              "    <div class=\"colab-df-container\">\n",
              "      <div>\n",
              "<style scoped>\n",
              "    .dataframe tbody tr th:only-of-type {\n",
              "        vertical-align: middle;\n",
              "    }\n",
              "\n",
              "    .dataframe tbody tr th {\n",
              "        vertical-align: top;\n",
              "    }\n",
              "\n",
              "    .dataframe thead th {\n",
              "        text-align: right;\n",
              "    }\n",
              "</style>\n",
              "<table border=\"1\" class=\"dataframe\">\n",
              "  <thead>\n",
              "    <tr style=\"text-align: right;\">\n",
              "      <th></th>\n",
              "      <th>Socio_Economic Status</th>\n",
              "      <th>Education Status</th>\n",
              "      <th>Age</th>\n",
              "      <th>Sex</th>\n",
              "      <th>Weight_kg</th>\n",
              "      <th>Height_metre</th>\n",
              "      <th>BMI_kg/metre2</th>\n",
              "      <th>Observable_symptom</th>\n",
              "      <th>Burning_sensation</th>\n",
              "      <th>Dental_pain</th>\n",
              "      <th>Medical_history</th>\n",
              "      <th>Oral_Habits</th>\n",
              "      <th>Exposure_in_yr</th>\n",
              "      <th>Frequency_day</th>\n",
              "      <th>Dietary_Habits</th>\n",
              "      <th>Spicy/Non_Spicy</th>\n",
              "      <th>binary_case1</th>\n",
              "    </tr>\n",
              "  </thead>\n",
              "  <tbody>\n",
              "    <tr>\n",
              "      <th>0</th>\n",
              "      <td>1</td>\n",
              "      <td>2</td>\n",
              "      <td>30.0</td>\n",
              "      <td>0</td>\n",
              "      <td>35.0</td>\n",
              "      <td>1.42</td>\n",
              "      <td>17.357667</td>\n",
              "      <td>1</td>\n",
              "      <td>0</td>\n",
              "      <td>0</td>\n",
              "      <td>0</td>\n",
              "      <td>1</td>\n",
              "      <td>2</td>\n",
              "      <td>2</td>\n",
              "      <td>0</td>\n",
              "      <td>1</td>\n",
              "      <td>0</td>\n",
              "    </tr>\n",
              "    <tr>\n",
              "      <th>1</th>\n",
              "      <td>1</td>\n",
              "      <td>2</td>\n",
              "      <td>55.0</td>\n",
              "      <td>1</td>\n",
              "      <td>49.0</td>\n",
              "      <td>1.57</td>\n",
              "      <td>19.879103</td>\n",
              "      <td>1</td>\n",
              "      <td>0</td>\n",
              "      <td>0</td>\n",
              "      <td>0</td>\n",
              "      <td>1</td>\n",
              "      <td>2</td>\n",
              "      <td>2</td>\n",
              "      <td>0</td>\n",
              "      <td>1</td>\n",
              "      <td>0</td>\n",
              "    </tr>\n",
              "    <tr>\n",
              "      <th>2</th>\n",
              "      <td>1</td>\n",
              "      <td>0</td>\n",
              "      <td>51.0</td>\n",
              "      <td>0</td>\n",
              "      <td>45.0</td>\n",
              "      <td>1.53</td>\n",
              "      <td>19.223376</td>\n",
              "      <td>1</td>\n",
              "      <td>0</td>\n",
              "      <td>0</td>\n",
              "      <td>0</td>\n",
              "      <td>0</td>\n",
              "      <td>0</td>\n",
              "      <td>0</td>\n",
              "      <td>0</td>\n",
              "      <td>1</td>\n",
              "      <td>0</td>\n",
              "    </tr>\n",
              "    <tr>\n",
              "      <th>3</th>\n",
              "      <td>1</td>\n",
              "      <td>1</td>\n",
              "      <td>32.0</td>\n",
              "      <td>0</td>\n",
              "      <td>47.0</td>\n",
              "      <td>1.52</td>\n",
              "      <td>20.342798</td>\n",
              "      <td>1</td>\n",
              "      <td>0</td>\n",
              "      <td>0</td>\n",
              "      <td>0</td>\n",
              "      <td>0</td>\n",
              "      <td>1</td>\n",
              "      <td>1</td>\n",
              "      <td>0</td>\n",
              "      <td>1</td>\n",
              "      <td>0</td>\n",
              "    </tr>\n",
              "    <tr>\n",
              "      <th>4</th>\n",
              "      <td>2</td>\n",
              "      <td>1</td>\n",
              "      <td>46.0</td>\n",
              "      <td>1</td>\n",
              "      <td>59.0</td>\n",
              "      <td>1.68</td>\n",
              "      <td>20.904195</td>\n",
              "      <td>1</td>\n",
              "      <td>0</td>\n",
              "      <td>0</td>\n",
              "      <td>0</td>\n",
              "      <td>1</td>\n",
              "      <td>2</td>\n",
              "      <td>2</td>\n",
              "      <td>0</td>\n",
              "      <td>1</td>\n",
              "      <td>0</td>\n",
              "    </tr>\n",
              "    <tr>\n",
              "      <th>...</th>\n",
              "      <td>...</td>\n",
              "      <td>...</td>\n",
              "      <td>...</td>\n",
              "      <td>...</td>\n",
              "      <td>...</td>\n",
              "      <td>...</td>\n",
              "      <td>...</td>\n",
              "      <td>...</td>\n",
              "      <td>...</td>\n",
              "      <td>...</td>\n",
              "      <td>...</td>\n",
              "      <td>...</td>\n",
              "      <td>...</td>\n",
              "      <td>...</td>\n",
              "      <td>...</td>\n",
              "      <td>...</td>\n",
              "      <td>...</td>\n",
              "    </tr>\n",
              "    <tr>\n",
              "      <th>459</th>\n",
              "      <td>1</td>\n",
              "      <td>3</td>\n",
              "      <td>55.0</td>\n",
              "      <td>0</td>\n",
              "      <td>55.0</td>\n",
              "      <td>1.42</td>\n",
              "      <td>27.276334</td>\n",
              "      <td>1</td>\n",
              "      <td>0</td>\n",
              "      <td>0</td>\n",
              "      <td>0</td>\n",
              "      <td>0</td>\n",
              "      <td>0</td>\n",
              "      <td>0</td>\n",
              "      <td>0</td>\n",
              "      <td>1</td>\n",
              "      <td>0</td>\n",
              "    </tr>\n",
              "    <tr>\n",
              "      <th>460</th>\n",
              "      <td>2</td>\n",
              "      <td>1</td>\n",
              "      <td>30.0</td>\n",
              "      <td>1</td>\n",
              "      <td>58.0</td>\n",
              "      <td>1.66</td>\n",
              "      <td>21.048048</td>\n",
              "      <td>1</td>\n",
              "      <td>0</td>\n",
              "      <td>0</td>\n",
              "      <td>0</td>\n",
              "      <td>1</td>\n",
              "      <td>2</td>\n",
              "      <td>2</td>\n",
              "      <td>0</td>\n",
              "      <td>1</td>\n",
              "      <td>0</td>\n",
              "    </tr>\n",
              "    <tr>\n",
              "      <th>461</th>\n",
              "      <td>2</td>\n",
              "      <td>1</td>\n",
              "      <td>37.0</td>\n",
              "      <td>1</td>\n",
              "      <td>60.0</td>\n",
              "      <td>1.72</td>\n",
              "      <td>20.281233</td>\n",
              "      <td>1</td>\n",
              "      <td>1</td>\n",
              "      <td>0</td>\n",
              "      <td>0</td>\n",
              "      <td>1</td>\n",
              "      <td>2</td>\n",
              "      <td>2</td>\n",
              "      <td>0</td>\n",
              "      <td>1</td>\n",
              "      <td>0</td>\n",
              "    </tr>\n",
              "    <tr>\n",
              "      <th>462</th>\n",
              "      <td>1</td>\n",
              "      <td>0</td>\n",
              "      <td>58.0</td>\n",
              "      <td>1</td>\n",
              "      <td>46.0</td>\n",
              "      <td>1.66</td>\n",
              "      <td>16.693279</td>\n",
              "      <td>1</td>\n",
              "      <td>0</td>\n",
              "      <td>0</td>\n",
              "      <td>0</td>\n",
              "      <td>1</td>\n",
              "      <td>2</td>\n",
              "      <td>2</td>\n",
              "      <td>0</td>\n",
              "      <td>1</td>\n",
              "      <td>0</td>\n",
              "    </tr>\n",
              "    <tr>\n",
              "      <th>463</th>\n",
              "      <td>1</td>\n",
              "      <td>0</td>\n",
              "      <td>28.0</td>\n",
              "      <td>1</td>\n",
              "      <td>58.0</td>\n",
              "      <td>1.63</td>\n",
              "      <td>21.829952</td>\n",
              "      <td>1</td>\n",
              "      <td>1</td>\n",
              "      <td>0</td>\n",
              "      <td>0</td>\n",
              "      <td>0</td>\n",
              "      <td>0</td>\n",
              "      <td>0</td>\n",
              "      <td>0</td>\n",
              "      <td>1</td>\n",
              "      <td>0</td>\n",
              "    </tr>\n",
              "  </tbody>\n",
              "</table>\n",
              "<p>464 rows × 17 columns</p>\n",
              "</div>\n",
              "      <button class=\"colab-df-convert\" onclick=\"convertToInteractive('df-06f17bf3-032b-475e-a83e-3b685c99eaf7')\"\n",
              "              title=\"Convert this dataframe to an interactive table.\"\n",
              "              style=\"display:none;\">\n",
              "        \n",
              "  <svg xmlns=\"http://www.w3.org/2000/svg\" height=\"24px\"viewBox=\"0 0 24 24\"\n",
              "       width=\"24px\">\n",
              "    <path d=\"M0 0h24v24H0V0z\" fill=\"none\"/>\n",
              "    <path d=\"M18.56 5.44l.94 2.06.94-2.06 2.06-.94-2.06-.94-.94-2.06-.94 2.06-2.06.94zm-11 1L8.5 8.5l.94-2.06 2.06-.94-2.06-.94L8.5 2.5l-.94 2.06-2.06.94zm10 10l.94 2.06.94-2.06 2.06-.94-2.06-.94-.94-2.06-.94 2.06-2.06.94z\"/><path d=\"M17.41 7.96l-1.37-1.37c-.4-.4-.92-.59-1.43-.59-.52 0-1.04.2-1.43.59L10.3 9.45l-7.72 7.72c-.78.78-.78 2.05 0 2.83L4 21.41c.39.39.9.59 1.41.59.51 0 1.02-.2 1.41-.59l7.78-7.78 2.81-2.81c.8-.78.8-2.07 0-2.86zM5.41 20L4 18.59l7.72-7.72 1.47 1.35L5.41 20z\"/>\n",
              "  </svg>\n",
              "      </button>\n",
              "      \n",
              "  <style>\n",
              "    .colab-df-container {\n",
              "      display:flex;\n",
              "      flex-wrap:wrap;\n",
              "      gap: 12px;\n",
              "    }\n",
              "\n",
              "    .colab-df-convert {\n",
              "      background-color: #E8F0FE;\n",
              "      border: none;\n",
              "      border-radius: 50%;\n",
              "      cursor: pointer;\n",
              "      display: none;\n",
              "      fill: #1967D2;\n",
              "      height: 32px;\n",
              "      padding: 0 0 0 0;\n",
              "      width: 32px;\n",
              "    }\n",
              "\n",
              "    .colab-df-convert:hover {\n",
              "      background-color: #E2EBFA;\n",
              "      box-shadow: 0px 1px 2px rgba(60, 64, 67, 0.3), 0px 1px 3px 1px rgba(60, 64, 67, 0.15);\n",
              "      fill: #174EA6;\n",
              "    }\n",
              "\n",
              "    [theme=dark] .colab-df-convert {\n",
              "      background-color: #3B4455;\n",
              "      fill: #D2E3FC;\n",
              "    }\n",
              "\n",
              "    [theme=dark] .colab-df-convert:hover {\n",
              "      background-color: #434B5C;\n",
              "      box-shadow: 0px 1px 3px 1px rgba(0, 0, 0, 0.15);\n",
              "      filter: drop-shadow(0px 1px 2px rgba(0, 0, 0, 0.3));\n",
              "      fill: #FFFFFF;\n",
              "    }\n",
              "  </style>\n",
              "\n",
              "      <script>\n",
              "        const buttonEl =\n",
              "          document.querySelector('#df-06f17bf3-032b-475e-a83e-3b685c99eaf7 button.colab-df-convert');\n",
              "        buttonEl.style.display =\n",
              "          google.colab.kernel.accessAllowed ? 'block' : 'none';\n",
              "\n",
              "        async function convertToInteractive(key) {\n",
              "          const element = document.querySelector('#df-06f17bf3-032b-475e-a83e-3b685c99eaf7');\n",
              "          const dataTable =\n",
              "            await google.colab.kernel.invokeFunction('convertToInteractive',\n",
              "                                                     [key], {});\n",
              "          if (!dataTable) return;\n",
              "\n",
              "          const docLinkHtml = 'Like what you see? Visit the ' +\n",
              "            '<a target=\"_blank\" href=https://colab.research.google.com/notebooks/data_table.ipynb>data table notebook</a>'\n",
              "            + ' to learn more about interactive tables.';\n",
              "          element.innerHTML = '';\n",
              "          dataTable['output_type'] = 'display_data';\n",
              "          await google.colab.output.renderOutput(dataTable, element);\n",
              "          const docLink = document.createElement('div');\n",
              "          docLink.innerHTML = docLinkHtml;\n",
              "          element.appendChild(docLink);\n",
              "        }\n",
              "      </script>\n",
              "    </div>\n",
              "  </div>\n",
              "  "
            ]
          },
          "metadata": {},
          "execution_count": 7
        }
      ]
    },
    {
      "cell_type": "code",
      "source": [
        "df.groupby(['binary_case1']).count()"
      ],
      "metadata": {
        "colab": {
          "base_uri": "https://localhost:8080/",
          "height": 225
        },
        "id": "LXYQITITc-FH",
        "outputId": "7c1fa70e-a3ff-4648-cefd-f6439a93e939"
      },
      "execution_count": 8,
      "outputs": [
        {
          "output_type": "execute_result",
          "data": {
            "text/plain": [
              "              Socio_Economic Status  Education Status  Age  Sex  Weight_kg  \\\n",
              "binary_case1                                                                 \n",
              "0                               166               166  166  166        166   \n",
              "1                               298               298  298  298        298   \n",
              "\n",
              "              Height_metre  BMI_kg/metre2  Observable_symptom  \\\n",
              "binary_case1                                                    \n",
              "0                      166            166                 166   \n",
              "1                      298            298                 298   \n",
              "\n",
              "              Burning_sensation  Dental_pain  Medical_history  Oral_Habits  \\\n",
              "binary_case1                                                                 \n",
              "0                           166          166              166          166   \n",
              "1                           298          298              298          298   \n",
              "\n",
              "              Exposure_in_yr  Frequency_day  Dietary_Habits  Spicy/Non_Spicy  \n",
              "binary_case1                                                                  \n",
              "0                        166            166             166              166  \n",
              "1                        298            298             298              298  "
            ],
            "text/html": [
              "\n",
              "  <div id=\"df-69239313-00f1-48f3-bee4-6cbb7c9bc335\">\n",
              "    <div class=\"colab-df-container\">\n",
              "      <div>\n",
              "<style scoped>\n",
              "    .dataframe tbody tr th:only-of-type {\n",
              "        vertical-align: middle;\n",
              "    }\n",
              "\n",
              "    .dataframe tbody tr th {\n",
              "        vertical-align: top;\n",
              "    }\n",
              "\n",
              "    .dataframe thead th {\n",
              "        text-align: right;\n",
              "    }\n",
              "</style>\n",
              "<table border=\"1\" class=\"dataframe\">\n",
              "  <thead>\n",
              "    <tr style=\"text-align: right;\">\n",
              "      <th></th>\n",
              "      <th>Socio_Economic Status</th>\n",
              "      <th>Education Status</th>\n",
              "      <th>Age</th>\n",
              "      <th>Sex</th>\n",
              "      <th>Weight_kg</th>\n",
              "      <th>Height_metre</th>\n",
              "      <th>BMI_kg/metre2</th>\n",
              "      <th>Observable_symptom</th>\n",
              "      <th>Burning_sensation</th>\n",
              "      <th>Dental_pain</th>\n",
              "      <th>Medical_history</th>\n",
              "      <th>Oral_Habits</th>\n",
              "      <th>Exposure_in_yr</th>\n",
              "      <th>Frequency_day</th>\n",
              "      <th>Dietary_Habits</th>\n",
              "      <th>Spicy/Non_Spicy</th>\n",
              "    </tr>\n",
              "    <tr>\n",
              "      <th>binary_case1</th>\n",
              "      <th></th>\n",
              "      <th></th>\n",
              "      <th></th>\n",
              "      <th></th>\n",
              "      <th></th>\n",
              "      <th></th>\n",
              "      <th></th>\n",
              "      <th></th>\n",
              "      <th></th>\n",
              "      <th></th>\n",
              "      <th></th>\n",
              "      <th></th>\n",
              "      <th></th>\n",
              "      <th></th>\n",
              "      <th></th>\n",
              "      <th></th>\n",
              "    </tr>\n",
              "  </thead>\n",
              "  <tbody>\n",
              "    <tr>\n",
              "      <th>0</th>\n",
              "      <td>166</td>\n",
              "      <td>166</td>\n",
              "      <td>166</td>\n",
              "      <td>166</td>\n",
              "      <td>166</td>\n",
              "      <td>166</td>\n",
              "      <td>166</td>\n",
              "      <td>166</td>\n",
              "      <td>166</td>\n",
              "      <td>166</td>\n",
              "      <td>166</td>\n",
              "      <td>166</td>\n",
              "      <td>166</td>\n",
              "      <td>166</td>\n",
              "      <td>166</td>\n",
              "      <td>166</td>\n",
              "    </tr>\n",
              "    <tr>\n",
              "      <th>1</th>\n",
              "      <td>298</td>\n",
              "      <td>298</td>\n",
              "      <td>298</td>\n",
              "      <td>298</td>\n",
              "      <td>298</td>\n",
              "      <td>298</td>\n",
              "      <td>298</td>\n",
              "      <td>298</td>\n",
              "      <td>298</td>\n",
              "      <td>298</td>\n",
              "      <td>298</td>\n",
              "      <td>298</td>\n",
              "      <td>298</td>\n",
              "      <td>298</td>\n",
              "      <td>298</td>\n",
              "      <td>298</td>\n",
              "    </tr>\n",
              "  </tbody>\n",
              "</table>\n",
              "</div>\n",
              "      <button class=\"colab-df-convert\" onclick=\"convertToInteractive('df-69239313-00f1-48f3-bee4-6cbb7c9bc335')\"\n",
              "              title=\"Convert this dataframe to an interactive table.\"\n",
              "              style=\"display:none;\">\n",
              "        \n",
              "  <svg xmlns=\"http://www.w3.org/2000/svg\" height=\"24px\"viewBox=\"0 0 24 24\"\n",
              "       width=\"24px\">\n",
              "    <path d=\"M0 0h24v24H0V0z\" fill=\"none\"/>\n",
              "    <path d=\"M18.56 5.44l.94 2.06.94-2.06 2.06-.94-2.06-.94-.94-2.06-.94 2.06-2.06.94zm-11 1L8.5 8.5l.94-2.06 2.06-.94-2.06-.94L8.5 2.5l-.94 2.06-2.06.94zm10 10l.94 2.06.94-2.06 2.06-.94-2.06-.94-.94-2.06-.94 2.06-2.06.94z\"/><path d=\"M17.41 7.96l-1.37-1.37c-.4-.4-.92-.59-1.43-.59-.52 0-1.04.2-1.43.59L10.3 9.45l-7.72 7.72c-.78.78-.78 2.05 0 2.83L4 21.41c.39.39.9.59 1.41.59.51 0 1.02-.2 1.41-.59l7.78-7.78 2.81-2.81c.8-.78.8-2.07 0-2.86zM5.41 20L4 18.59l7.72-7.72 1.47 1.35L5.41 20z\"/>\n",
              "  </svg>\n",
              "      </button>\n",
              "      \n",
              "  <style>\n",
              "    .colab-df-container {\n",
              "      display:flex;\n",
              "      flex-wrap:wrap;\n",
              "      gap: 12px;\n",
              "    }\n",
              "\n",
              "    .colab-df-convert {\n",
              "      background-color: #E8F0FE;\n",
              "      border: none;\n",
              "      border-radius: 50%;\n",
              "      cursor: pointer;\n",
              "      display: none;\n",
              "      fill: #1967D2;\n",
              "      height: 32px;\n",
              "      padding: 0 0 0 0;\n",
              "      width: 32px;\n",
              "    }\n",
              "\n",
              "    .colab-df-convert:hover {\n",
              "      background-color: #E2EBFA;\n",
              "      box-shadow: 0px 1px 2px rgba(60, 64, 67, 0.3), 0px 1px 3px 1px rgba(60, 64, 67, 0.15);\n",
              "      fill: #174EA6;\n",
              "    }\n",
              "\n",
              "    [theme=dark] .colab-df-convert {\n",
              "      background-color: #3B4455;\n",
              "      fill: #D2E3FC;\n",
              "    }\n",
              "\n",
              "    [theme=dark] .colab-df-convert:hover {\n",
              "      background-color: #434B5C;\n",
              "      box-shadow: 0px 1px 3px 1px rgba(0, 0, 0, 0.15);\n",
              "      filter: drop-shadow(0px 1px 2px rgba(0, 0, 0, 0.3));\n",
              "      fill: #FFFFFF;\n",
              "    }\n",
              "  </style>\n",
              "\n",
              "      <script>\n",
              "        const buttonEl =\n",
              "          document.querySelector('#df-69239313-00f1-48f3-bee4-6cbb7c9bc335 button.colab-df-convert');\n",
              "        buttonEl.style.display =\n",
              "          google.colab.kernel.accessAllowed ? 'block' : 'none';\n",
              "\n",
              "        async function convertToInteractive(key) {\n",
              "          const element = document.querySelector('#df-69239313-00f1-48f3-bee4-6cbb7c9bc335');\n",
              "          const dataTable =\n",
              "            await google.colab.kernel.invokeFunction('convertToInteractive',\n",
              "                                                     [key], {});\n",
              "          if (!dataTable) return;\n",
              "\n",
              "          const docLinkHtml = 'Like what you see? Visit the ' +\n",
              "            '<a target=\"_blank\" href=https://colab.research.google.com/notebooks/data_table.ipynb>data table notebook</a>'\n",
              "            + ' to learn more about interactive tables.';\n",
              "          element.innerHTML = '';\n",
              "          dataTable['output_type'] = 'display_data';\n",
              "          await google.colab.output.renderOutput(dataTable, element);\n",
              "          const docLink = document.createElement('div');\n",
              "          docLink.innerHTML = docLinkHtml;\n",
              "          element.appendChild(docLink);\n",
              "        }\n",
              "      </script>\n",
              "    </div>\n",
              "  </div>\n",
              "  "
            ]
          },
          "metadata": {},
          "execution_count": 8
        }
      ]
    },
    {
      "cell_type": "code",
      "source": [
        "X = df.iloc[76:,:-1]\n",
        "y= df.iloc[76:,-1]"
      ],
      "metadata": {
        "id": "rBjf_CtLLLrB"
      },
      "execution_count": 9,
      "outputs": []
    },
    {
      "cell_type": "code",
      "source": [
        "y.shape"
      ],
      "metadata": {
        "colab": {
          "base_uri": "https://localhost:8080/"
        },
        "id": "csCs7xmVd2_m",
        "outputId": "81b541c6-dd60-4b59-ee16-4a9cbe8ab5b7"
      },
      "execution_count": 10,
      "outputs": [
        {
          "output_type": "execute_result",
          "data": {
            "text/plain": [
              "(388,)"
            ]
          },
          "metadata": {},
          "execution_count": 10
        }
      ]
    },
    {
      "cell_type": "markdown",
      "source": [
        "### Feature Selection "
      ],
      "metadata": {
        "id": "JfTphEjcgMIg"
      }
    },
    {
      "cell_type": "code",
      "source": [
        "from sklearn.ensemble import ExtraTreesClassifier\n",
        "import matplotlib.pyplot as plt\n",
        "model = ExtraTreesClassifier()\n",
        "model.fit(X,y)"
      ],
      "metadata": {
        "colab": {
          "base_uri": "https://localhost:8080/"
        },
        "id": "lePdauIw4TBH",
        "outputId": "5f3ad48d-6923-4392-9a96-10aa1b651310"
      },
      "execution_count": 11,
      "outputs": [
        {
          "output_type": "execute_result",
          "data": {
            "text/plain": [
              "ExtraTreesClassifier()"
            ]
          },
          "metadata": {},
          "execution_count": 11
        }
      ]
    },
    {
      "cell_type": "code",
      "source": [
        "print(model.feature_importances_)"
      ],
      "metadata": {
        "colab": {
          "base_uri": "https://localhost:8080/"
        },
        "id": "MNPddSDS4S-i",
        "outputId": "2692c731-cf72-45d9-82c8-d04771cbee3c"
      },
      "execution_count": 12,
      "outputs": [
        {
          "output_type": "stream",
          "name": "stdout",
          "text": [
            "[0.0354599  0.04227115 0.08853536 0.0228109  0.08188652 0.07963143\n",
            " 0.07778616 0.33618044 0.03655785 0.10988928 0.03751935 0.01265098\n",
            " 0.01842808 0.01760013 0.00123751 0.00155496]\n"
          ]
        }
      ]
    },
    {
      "cell_type": "code",
      "source": [
        "feat_importances = pd.Series(model.feature_importances_, index=X.columns)\n",
        "feat_importances.nlargest(10).plot(kind='barh')\n",
        "plt.show()"
      ],
      "metadata": {
        "colab": {
          "base_uri": "https://localhost:8080/",
          "height": 265
        },
        "id": "n2yuIdaQ4S7s",
        "outputId": "f6214eef-eb3b-42f6-9ebe-48412193f5fb"
      },
      "execution_count": 13,
      "outputs": [
        {
          "output_type": "display_data",
          "data": {
            "text/plain": [
              "<Figure size 432x288 with 1 Axes>"
            ],
            "image/png": "[encoded data removed]"
          },
          "metadata": {
            "needs_background": "light"
          }
        }
      ]
    },
    {
      "cell_type": "code",
      "source": [
        "X=X.drop(['Exposure_in_yr'],axis=1)\n",
        "X=X.drop(['Frequency_day'],axis=1)\n",
        "X=X.drop(['Sex'],axis=1)\n",
        "X=X.drop(['Oral_Habits'],axis=1)\n",
        "X=X.drop(['Dietary_Habits'],axis=1)\n",
        "X=X.drop(['Spicy/Non_Spicy'],axis=1)"
      ],
      "metadata": {
        "id": "qfbZrR3m6T0Q"
      },
      "execution_count": 14,
      "outputs": []
    },
    {
      "cell_type": "markdown",
      "source": [
        "### Standardisation of x label values"
      ],
      "metadata": {
        "id": "MoagMmlsgYXt"
      }
    },
    {
      "cell_type": "code",
      "source": [
        "scaler=StandardScaler()\n",
        "scaler.fit(X)\n",
        "X=scaler.transform(X)"
      ],
      "metadata": {
        "id": "Ad069ZPNLOxW"
      },
      "execution_count": 15,
      "outputs": []
    },
    {
      "cell_type": "code",
      "source": [
        "X.shape"
      ],
      "metadata": {
        "colab": {
          "base_uri": "https://localhost:8080/"
        },
        "id": "BygfDLw26Txs",
        "outputId": "233606f0-42be-4471-cffd-1399de0a7bb0"
      },
      "execution_count": 16,
      "outputs": [
        {
          "output_type": "execute_result",
          "data": {
            "text/plain": [
              "(388, 10)"
            ]
          },
          "metadata": {},
          "execution_count": 16
        }
      ]
    },
    {
      "cell_type": "markdown",
      "source": [
        "## Model Implementation"
      ],
      "metadata": {
        "id": "dDEiX5aOgc_1"
      }
    },
    {
      "cell_type": "markdown",
      "source": [
        "### Random Forests"
      ],
      "metadata": {
        "id": "H97M3FYfPK-t"
      }
    },
    {
      "cell_type": "code",
      "source": [
        "d_trees = np.arange(1, 200)\n",
        "train_accuracy = np.empty(len(d_trees))\n",
        "X_train, X_test, y_train, y_test = train_test_split(X, y, test_size=0.2, random_state=51)\n",
        "for i in (d_trees):\n",
        "    rfc = RandomForestClassifier(n_estimators=i)\n",
        "    rfc.fit(X_train, y_train)\n",
        "     \n",
        "    # Compute training and test data accuracy\n",
        "    y_pred = rfc.predict(X_test)\n",
        "    #metrics.accuracy_score(b_test, y_pred)\n",
        "    train_accuracy[i-1] = metrics.accuracy_score(y_test, y_pred)"
      ],
      "metadata": {
        "id": "aPtvs7Zk6Tu-"
      },
      "execution_count": 17,
      "outputs": []
    },
    {
      "cell_type": "code",
      "source": [
        "plt.plot(d_trees,train_accuracy, label = 'Testing dataset Accuracy')\n",
        "\n",
        " \n",
        "plt.legend()\n",
        "plt.xlabel('No. of Trees')\n",
        "plt.ylabel('Accuracy')\n",
        "\n",
        "plt.show()"
      ],
      "metadata": {
        "colab": {
          "base_uri": "https://localhost:8080/",
          "height": 279
        },
        "id": "jbgq-iu5326U",
        "outputId": "1f212fc2-2bc6-46eb-dd9d-afda81f28dcf"
      },
      "execution_count": 18,
      "outputs": [
        {
          "output_type": "display_data",
          "data": {
            "text/plain": [
              "<Figure size 432x288 with 1 Axes>"
            ],
            "image/png": "[encoded data removed]"
          },
          "metadata": {
            "needs_background": "light"
          }
        }
      ]
    },
    {
      "cell_type": "code",
      "source": [
        "clf = RandomForestClassifier(random_state=4)"
      ],
      "metadata": {
        "id": "rYDqaxw0_rkt"
      },
      "execution_count": 27,
      "outputs": []
    },
    {
      "cell_type": "code",
      "source": [
        "score_rf=cross_val_score(clf,X, y,cv=5)\n",
        "print(score_rf)\n",
        "print('avg',np.average(score_rf))"
      ],
      "metadata": {
        "colab": {
          "base_uri": "https://localhost:8080/"
        },
        "id": "xViO858oAIvB",
        "outputId": "526d6b39-437b-46e5-c5e5-c5a779da21b6"
      },
      "execution_count": 28,
      "outputs": [
        {
          "output_type": "stream",
          "name": "stdout",
          "text": [
            "[0.76923077 0.85897436 0.87179487 0.88311688 0.83116883]\n",
            "avg 0.8428571428571429\n"
          ]
        }
      ]
    },
    {
      "cell_type": "markdown",
      "source": [
        "### Bagging"
      ],
      "metadata": {
        "id": "PAv880WELfec"
      }
    },
    {
      "cell_type": "code",
      "source": [
        "bg = BaggingClassifier(RandomForestClassifier(),max_samples=0.5, max_features=1.0,random_state=2)"
      ],
      "metadata": {
        "id": "9AlHOl5IAe_I"
      },
      "execution_count": 29,
      "outputs": []
    },
    {
      "cell_type": "code",
      "source": [
        "score_rf_=cross_val_score(bg,X, y,cv=5)\n",
        "print(score_rf_)\n",
        "print('avg',np.average(score_rf_))"
      ],
      "metadata": {
        "colab": {
          "base_uri": "https://localhost:8080/"
        },
        "id": "ytE_1qDdAe8a",
        "outputId": "059d6dc9-c2e4-4e9d-b286-50dafe654159"
      },
      "execution_count": 30,
      "outputs": [
        {
          "output_type": "stream",
          "name": "stdout",
          "text": [
            "[0.58974359 0.83333333 0.82051282 0.87012987 0.81818182]\n",
            "avg 0.7863802863802863\n"
          ]
        }
      ]
    },
    {
      "cell_type": "markdown",
      "source": [
        "### Adaboost"
      ],
      "metadata": {
        "id": "LDYAkzk9Lrzu"
      }
    },
    {
      "cell_type": "code",
      "source": [
        "ad = AdaBoostClassifier(RandomForestClassifier(),learning_rate=0.01,random_state=4)"
      ],
      "metadata": {
        "id": "SoIQpc2lLm6d"
      },
      "execution_count": 31,
      "outputs": []
    },
    {
      "cell_type": "code",
      "source": [
        "scorerf_=cross_val_score(ad,X, y,cv=5)\n",
        "print(scorerf_)\n",
        "print('avg',np.average(scorerf_))"
      ],
      "metadata": {
        "colab": {
          "base_uri": "https://localhost:8080/"
        },
        "id": "_S9sLivrL-Mo",
        "outputId": "e87f16c4-def1-4ffa-ab55-767aa2b5635d"
      },
      "execution_count": 32,
      "outputs": [
        {
          "output_type": "stream",
          "name": "stdout",
          "text": [
            "[0.71794872 0.85897436 0.87179487 0.88311688 0.85714286]\n",
            "avg 0.8377955377955377\n"
          ]
        }
      ]
    },
    {
      "cell_type": "markdown",
      "source": [
        "### Gradient Boosting"
      ],
      "metadata": {
        "id": "T_GQO2hHMGyG"
      }
    },
    {
      "cell_type": "code",
      "source": [
        "model = GradientBoostingClassifier(random_state=6)"
      ],
      "metadata": {
        "id": "vYwoD43QMB0_"
      },
      "execution_count": 33,
      "outputs": []
    },
    {
      "cell_type": "code",
      "source": [
        "scoe_rf_=cross_val_score(model,X, y,cv=5)\n",
        "print(scoe_rf_)\n",
        "print('avg',np.average(scoe_rf_))"
      ],
      "metadata": {
        "colab": {
          "base_uri": "https://localhost:8080/"
        },
        "id": "tsEDSyyGMLy8",
        "outputId": "5d69d2c2-f9d9-4701-ee6e-39949350a651"
      },
      "execution_count": 34,
      "outputs": [
        {
          "output_type": "stream",
          "name": "stdout",
          "text": [
            "[0.8974359  0.84615385 0.88461538 0.88311688 0.85714286]\n",
            "avg 0.8736929736929737\n"
          ]
        }
      ]
    },
    {
      "cell_type": "markdown",
      "source": [
        "### SVM"
      ],
      "metadata": {
        "id": "Dpie4xtJMRsX"
      }
    },
    {
      "cell_type": "code",
      "source": [
        "clf= SVC(kernel='linear',probability=True,random_state=1)"
      ],
      "metadata": {
        "id": "feS2cQJOMN5E"
      },
      "execution_count": 35,
      "outputs": []
    },
    {
      "cell_type": "code",
      "source": [
        "sore_r_f_=cross_val_score(clf,X, y,cv=5)\n",
        "print(sore_r_f_)\n",
        "print('avg',np.average(sore_r_f_))"
      ],
      "metadata": {
        "colab": {
          "base_uri": "https://localhost:8080/"
        },
        "id": "06XHs2IpMVRN",
        "outputId": "4b08bc70-954e-4290-a604-1ba2c5afd587"
      },
      "execution_count": 36,
      "outputs": [
        {
          "output_type": "stream",
          "name": "stdout",
          "text": [
            "[0.85897436 0.8974359  0.93589744 0.90909091 0.85714286]\n",
            "avg 0.8917082917082917\n"
          ]
        }
      ]
    },
    {
      "cell_type": "markdown",
      "source": [
        "### KNN"
      ],
      "metadata": {
        "id": "CumxtFKzMZgn"
      }
    },
    {
      "cell_type": "code",
      "source": [
        "from sklearn.neighbors import KNeighborsClassifier\n",
        "from sklearn.pipeline import Pipeline"
      ],
      "metadata": {
        "id": "EB26uyFzMXOK"
      },
      "execution_count": 37,
      "outputs": []
    },
    {
      "cell_type": "code",
      "source": [
        "modol = KNeighborsClassifier()"
      ],
      "metadata": {
        "id": "6gxY8kWmMc8P"
      },
      "execution_count": 38,
      "outputs": []
    },
    {
      "cell_type": "code",
      "source": [
        "ore_r_f_=cross_val_score(modol,X, y,cv=5)\n",
        "print(ore_r_f_)\n",
        "print('avg',np.average(ore_r_f_))"
      ],
      "metadata": {
        "colab": {
          "base_uri": "https://localhost:8080/"
        },
        "id": "9IIA6PgvMgpL",
        "outputId": "91a6fe8b-f114-411e-a356-ce9165afea27"
      },
      "execution_count": 39,
      "outputs": [
        {
          "output_type": "stream",
          "name": "stdout",
          "text": [
            "[0.70512821 0.82051282 0.85897436 0.88311688 0.88311688]\n",
            "avg 0.8301698301698301\n"
          ]
        }
      ]
    },
    {
      "cell_type": "markdown",
      "source": [
        "### ANN"
      ],
      "metadata": {
        "id": "QJW0uddhQF0w"
      }
    },
    {
      "cell_type": "code",
      "source": [
        "clf_ = MLPClassifier(hidden_layer_sizes=(6,6),\n",
        "                    max_iter = 60,\n",
        "                    random_state=5,\n",
        "                    verbose=True,\n",
        "                    learning_rate_init=0.01)"
      ],
      "metadata": {
        "id": "cJ_3A_U_Szuy"
      },
      "execution_count": 40,
      "outputs": []
    },
    {
      "cell_type": "code",
      "source": [
        "ore_r_f_=cross_val_score(clf_,X, y,cv=5)\n",
        "print(ore_r_f_)\n",
        "print('avg',np.average(ore_r_f_))"
      ],
      "metadata": {
        "id": "wThecs3FS5yE",
        "colab": {
          "base_uri": "https://localhost:8080/"
        },
        "outputId": "54c02966-fc0c-4a76-f355-7e33c8f80f8e"
      },
      "execution_count": 41,
      "outputs": [
        {
          "output_type": "stream",
          "name": "stdout",
          "text": [
            "Iteration 1, loss = 0.60373301\n",
            "Iteration 2, loss = 0.57685263\n",
            "Iteration 3, loss = 0.55316116\n",
            "Iteration 4, loss = 0.53311845\n",
            "Iteration 5, loss = 0.51321278\n",
            "Iteration 6, loss = 0.49305788\n",
            "Iteration 7, loss = 0.47138585\n",
            "Iteration 8, loss = 0.45041472\n",
            "Iteration 9, loss = 0.42757542\n",
            "Iteration 10, loss = 0.40321514\n",
            "Iteration 11, loss = 0.38023079\n",
            "Iteration 12, loss = 0.35969824\n",
            "Iteration 13, loss = 0.34148419\n",
            "Iteration 14, loss = 0.32804609\n",
            "Iteration 15, loss = 0.31593281\n",
            "Iteration 16, loss = 0.30170548\n",
            "Iteration 17, loss = 0.29197637\n",
            "Iteration 18, loss = 0.28303012\n",
            "Iteration 19, loss = 0.27616223\n",
            "Iteration 20, loss = 0.27179414\n",
            "Iteration 21, loss = 0.26702028\n",
            "Iteration 22, loss = 0.26420898\n",
            "Iteration 23, loss = 0.26164053\n",
            "Iteration 24, loss = 0.25967059\n",
            "Iteration 25, loss = 0.25791500\n",
            "Iteration 26, loss = 0.25606904\n",
            "Iteration 27, loss = 0.25485472\n",
            "Iteration 28, loss = 0.25301335\n",
            "Iteration 29, loss = 0.25205763\n",
            "Iteration 30, loss = 0.25028385\n",
            "Iteration 31, loss = 0.24942531\n",
            "Iteration 32, loss = 0.24825847\n",
            "Iteration 33, loss = 0.24736864\n",
            "Iteration 34, loss = 0.24684965\n",
            "Iteration 35, loss = 0.24584362\n",
            "Iteration 36, loss = 0.24485222\n",
            "Iteration 37, loss = 0.24425891\n",
            "Iteration 38, loss = 0.24356162\n",
            "Iteration 39, loss = 0.24321968\n",
            "Iteration 40, loss = 0.24250480\n",
            "Iteration 41, loss = 0.24173598\n",
            "Iteration 42, loss = 0.24135642\n",
            "Iteration 43, loss = 0.24104281\n",
            "Iteration 44, loss = 0.24058410\n",
            "Iteration 45, loss = 0.23982645\n",
            "Iteration 46, loss = 0.23880882\n",
            "Iteration 47, loss = 0.23855287\n",
            "Iteration 48, loss = 0.23836384\n",
            "Iteration 49, loss = 0.23770395\n",
            "Iteration 50, loss = 0.23700340\n",
            "Iteration 51, loss = 0.23644109\n",
            "Iteration 52, loss = 0.23594470\n",
            "Iteration 53, loss = 0.23535737\n",
            "Iteration 54, loss = 0.23526158\n",
            "Iteration 55, loss = 0.23486177\n",
            "Iteration 56, loss = 0.23416842\n",
            "Iteration 57, loss = 0.23479481\n",
            "Iteration 58, loss = 0.23343811\n",
            "Iteration 59, loss = 0.23320463\n",
            "Iteration 60, loss = 0.23234265\n",
            "Iteration 1, loss = 0.62855354\n",
            "Iteration 2, loss = 0.59775612\n",
            "Iteration 3, loss = 0.57004680\n",
            "Iteration 4, loss = 0.54700665\n",
            "Iteration 5, loss = 0.52388966\n",
            "Iteration 6, loss = 0.50191233\n",
            "Iteration 7, loss = 0.47948860\n",
            "Iteration 8, loss = 0.45721576\n",
            "Iteration 9, loss = 0.43358665\n",
            "Iteration 10, loss = 0.40951997\n",
            "Iteration 11, loss = 0.38835246\n",
            "Iteration 12, loss = 0.36963948\n",
            "Iteration 13, loss = 0.35485849\n",
            "Iteration 14, loss = 0.34034528\n",
            "Iteration 15, loss = 0.32771182\n",
            "Iteration 16, loss = 0.31430507\n",
            "Iteration 17, loss = 0.30293096\n",
            "Iteration 18, loss = 0.29210731\n",
            "Iteration 19, loss = 0.28294948\n",
            "Iteration 20, loss = 0.27604336\n",
            "Iteration 21, loss = 0.26957792\n",
            "Iteration 22, loss = 0.26637414\n",
            "Iteration 23, loss = 0.26194396\n",
            "Iteration 24, loss = 0.25909918\n",
            "Iteration 25, loss = 0.25766502\n",
            "Iteration 26, loss = 0.25566710\n",
            "Iteration 27, loss = 0.25378653\n",
            "Iteration 28, loss = 0.25234038\n",
            "Iteration 29, loss = 0.25079209\n",
            "Iteration 30, loss = 0.24838433\n",
            "Iteration 31, loss = 0.24731107\n",
            "Iteration 32, loss = 0.24595997\n",
            "Iteration 33, loss = 0.24470456\n",
            "Iteration 34, loss = 0.24290764\n",
            "Iteration 35, loss = 0.24142097\n",
            "Iteration 36, loss = 0.23992868\n",
            "Iteration 37, loss = 0.23868772\n",
            "Iteration 38, loss = 0.23756549\n",
            "Iteration 39, loss = 0.23670084\n",
            "Iteration 40, loss = 0.23514958\n",
            "Iteration 41, loss = 0.23413735\n",
            "Iteration 42, loss = 0.23242319\n",
            "Iteration 43, loss = 0.23124161\n",
            "Iteration 44, loss = 0.22959327\n",
            "Iteration 45, loss = 0.22831975\n",
            "Iteration 46, loss = 0.22616581\n",
            "Iteration 47, loss = 0.22469273\n",
            "Iteration 48, loss = 0.22432051\n",
            "Iteration 49, loss = 0.22285412\n",
            "Iteration 50, loss = 0.22097784\n",
            "Iteration 51, loss = 0.21897663\n",
            "Iteration 52, loss = 0.21772021\n",
            "Iteration 53, loss = 0.21703506\n"
          ]
        },
        {
          "output_type": "stream",
          "name": "stderr",
          "text": [
            "/usr/local/lib/python3.7/dist-packages/sklearn/neural_network/_multilayer_perceptron.py:696: ConvergenceWarning: Stochastic Optimizer: Maximum iterations (60) reached and the optimization hasn't converged yet.\n",
            "  ConvergenceWarning,\n",
            "/usr/local/lib/python3.7/dist-packages/sklearn/neural_network/_multilayer_perceptron.py:696: ConvergenceWarning: Stochastic Optimizer: Maximum iterations (60) reached and the optimization hasn't converged yet.\n",
            "  ConvergenceWarning,\n"
          ]
        },
        {
          "output_type": "stream",
          "name": "stdout",
          "text": [
            "Iteration 54, loss = 0.21601117\n",
            "Iteration 55, loss = 0.21428943\n",
            "Iteration 56, loss = 0.21330747\n",
            "Iteration 57, loss = 0.21187335\n",
            "Iteration 58, loss = 0.21121258\n",
            "Iteration 59, loss = 0.21016996\n",
            "Iteration 60, loss = 0.20893669\n",
            "Iteration 1, loss = 0.64660650\n",
            "Iteration 2, loss = 0.61419811\n",
            "Iteration 3, loss = 0.58697981\n",
            "Iteration 4, loss = 0.56545232\n",
            "Iteration 5, loss = 0.54463451\n",
            "Iteration 6, loss = 0.52495261\n",
            "Iteration 7, loss = 0.50568037\n",
            "Iteration 8, loss = 0.48764054\n",
            "Iteration 9, loss = 0.46837520\n",
            "Iteration 10, loss = 0.44883714\n",
            "Iteration 11, loss = 0.43027613\n",
            "Iteration 12, loss = 0.41163456\n",
            "Iteration 13, loss = 0.39505117\n",
            "Iteration 14, loss = 0.37818393\n",
            "Iteration 15, loss = 0.36374665\n",
            "Iteration 16, loss = 0.34861707\n",
            "Iteration 17, loss = 0.33580919\n",
            "Iteration 18, loss = 0.32364931\n",
            "Iteration 19, loss = 0.31215768\n",
            "Iteration 20, loss = 0.30272978\n",
            "Iteration 21, loss = 0.29254205\n",
            "Iteration 22, loss = 0.28594840\n",
            "Iteration 23, loss = 0.27931266\n",
            "Iteration 24, loss = 0.27447410\n",
            "Iteration 25, loss = 0.27075754\n",
            "Iteration 26, loss = 0.26657402\n",
            "Iteration 27, loss = 0.26279038\n",
            "Iteration 28, loss = 0.26052154\n",
            "Iteration 29, loss = 0.25805359\n",
            "Iteration 30, loss = 0.25594704\n",
            "Iteration 31, loss = 0.25388235\n",
            "Iteration 32, loss = 0.25134642\n",
            "Iteration 33, loss = 0.24889512\n",
            "Iteration 34, loss = 0.24658961\n",
            "Iteration 35, loss = 0.24405245\n",
            "Iteration 36, loss = 0.24173129\n",
            "Iteration 37, loss = 0.24005909\n",
            "Iteration 38, loss = 0.23827348\n",
            "Iteration 39, loss = 0.23659217\n",
            "Iteration 40, loss = 0.23514804\n",
            "Iteration 41, loss = 0.23373501\n",
            "Iteration 42, loss = 0.23216717\n",
            "Iteration 43, loss = 0.23113284\n",
            "Iteration 44, loss = 0.22919268\n",
            "Iteration 45, loss = 0.22798170\n",
            "Iteration 46, loss = 0.22632812\n",
            "Iteration 47, loss = 0.22480507\n",
            "Iteration 48, loss = 0.22288777\n",
            "Iteration 49, loss = 0.22182622\n",
            "Iteration 50, loss = 0.22033498\n",
            "Iteration 51, loss = 0.21865298\n",
            "Iteration 52, loss = 0.21734479\n",
            "Iteration 53, loss = 0.21577837\n",
            "Iteration 54, loss = 0.21437731\n",
            "Iteration 55, loss = 0.21273552\n",
            "Iteration 56, loss = 0.21141840\n",
            "Iteration 57, loss = 0.21113330\n",
            "Iteration 58, loss = 0.20970303\n",
            "Iteration 59, loss = 0.20821341\n",
            "Iteration 60, loss = 0.20716085\n",
            "Iteration 1, loss = 0.64298959\n",
            "Iteration 2, loss = 0.61319034\n",
            "Iteration 3, loss = 0.58769663\n",
            "Iteration 4, loss = 0.56580213\n",
            "Iteration 5, loss = 0.54445122\n",
            "Iteration 6, loss = 0.52463192\n",
            "Iteration 7, loss = 0.50310933\n",
            "Iteration 8, loss = 0.48050596\n",
            "Iteration 9, loss = 0.45754432\n",
            "Iteration 10, loss = 0.43383622\n",
            "Iteration 11, loss = 0.40919061\n",
            "Iteration 12, loss = 0.38890008\n",
            "Iteration 13, loss = 0.36802374\n",
            "Iteration 14, loss = 0.35019506\n",
            "Iteration 15, loss = 0.33413878\n",
            "Iteration 16, loss = 0.31878001\n",
            "Iteration 17, loss = 0.30501811\n",
            "Iteration 18, loss = 0.29311031\n",
            "Iteration 19, loss = 0.28347015\n",
            "Iteration 20, loss = 0.27437838\n",
            "Iteration 21, loss = 0.26820969\n",
            "Iteration 22, loss = 0.26281175\n",
            "Iteration 23, loss = 0.25811857\n",
            "Iteration 24, loss = 0.25544478\n",
            "Iteration 25, loss = 0.25294283\n",
            "Iteration 26, loss = 0.25047235\n",
            "Iteration 27, loss = 0.24845291\n",
            "Iteration 28, loss = 0.24759785\n",
            "Iteration 29, loss = 0.24604563\n",
            "Iteration 30, loss = 0.24401878\n",
            "Iteration 31, loss = 0.24236533\n",
            "Iteration 32, loss = 0.24147772\n",
            "Iteration 33, loss = 0.24075824\n",
            "Iteration 34, loss = 0.23901128\n",
            "Iteration 35, loss = 0.23788314\n",
            "Iteration 36, loss = 0.23637407\n"
          ]
        },
        {
          "output_type": "stream",
          "name": "stderr",
          "text": [
            "/usr/local/lib/python3.7/dist-packages/sklearn/neural_network/_multilayer_perceptron.py:696: ConvergenceWarning: Stochastic Optimizer: Maximum iterations (60) reached and the optimization hasn't converged yet.\n",
            "  ConvergenceWarning,\n",
            "/usr/local/lib/python3.7/dist-packages/sklearn/neural_network/_multilayer_perceptron.py:696: ConvergenceWarning: Stochastic Optimizer: Maximum iterations (60) reached and the optimization hasn't converged yet.\n",
            "  ConvergenceWarning,\n"
          ]
        },
        {
          "output_type": "stream",
          "name": "stdout",
          "text": [
            "Iteration 37, loss = 0.23512075\n",
            "Iteration 38, loss = 0.23439086\n",
            "Iteration 39, loss = 0.23346283\n",
            "Iteration 40, loss = 0.23271603\n",
            "Iteration 41, loss = 0.23204383\n",
            "Iteration 42, loss = 0.23136773\n",
            "Iteration 43, loss = 0.23085485\n",
            "Iteration 44, loss = 0.23003951\n",
            "Iteration 45, loss = 0.22961859\n",
            "Iteration 46, loss = 0.22885650\n",
            "Iteration 47, loss = 0.22857852\n",
            "Iteration 48, loss = 0.22711842\n",
            "Iteration 49, loss = 0.22637838\n",
            "Iteration 50, loss = 0.22564930\n",
            "Iteration 51, loss = 0.22469816\n",
            "Iteration 52, loss = 0.22393039\n",
            "Iteration 53, loss = 0.22277720\n",
            "Iteration 54, loss = 0.22198288\n",
            "Iteration 55, loss = 0.22166061\n",
            "Iteration 56, loss = 0.22058879\n",
            "Iteration 57, loss = 0.22004214\n",
            "Iteration 58, loss = 0.21954922\n",
            "Iteration 59, loss = 0.21927373\n",
            "Iteration 60, loss = 0.21912482\n",
            "Iteration 1, loss = 0.64094962\n",
            "Iteration 2, loss = 0.60753292\n",
            "Iteration 3, loss = 0.58064302\n",
            "Iteration 4, loss = 0.55763562\n",
            "Iteration 5, loss = 0.53620768\n",
            "Iteration 6, loss = 0.51729834\n",
            "Iteration 7, loss = 0.49942758\n",
            "Iteration 8, loss = 0.48288549\n",
            "Iteration 9, loss = 0.46483742\n",
            "Iteration 10, loss = 0.44687110\n",
            "Iteration 11, loss = 0.42771370\n",
            "Iteration 12, loss = 0.40695898\n",
            "Iteration 13, loss = 0.38711800\n",
            "Iteration 14, loss = 0.36928101\n",
            "Iteration 15, loss = 0.35184142\n",
            "Iteration 16, loss = 0.33383017\n",
            "Iteration 17, loss = 0.31826899\n",
            "Iteration 18, loss = 0.30271628\n",
            "Iteration 19, loss = 0.28676900\n",
            "Iteration 20, loss = 0.27226821\n",
            "Iteration 21, loss = 0.25936195\n",
            "Iteration 22, loss = 0.24808075\n",
            "Iteration 23, loss = 0.23753698\n",
            "Iteration 24, loss = 0.23044698\n",
            "Iteration 25, loss = 0.22518046\n",
            "Iteration 26, loss = 0.22013711\n",
            "Iteration 27, loss = 0.21624040\n",
            "Iteration 28, loss = 0.21318894\n",
            "Iteration 29, loss = 0.21036032\n",
            "Iteration 30, loss = 0.20649952\n",
            "Iteration 31, loss = 0.20367204\n",
            "Iteration 32, loss = 0.20109162\n",
            "Iteration 33, loss = 0.19854077\n",
            "Iteration 34, loss = 0.19668962\n",
            "Iteration 35, loss = 0.19513425\n",
            "Iteration 36, loss = 0.19326037\n",
            "Iteration 37, loss = 0.19199638\n",
            "Iteration 38, loss = 0.19051804\n",
            "Iteration 39, loss = 0.18893536\n",
            "Iteration 40, loss = 0.18768026\n",
            "Iteration 41, loss = 0.18620863\n",
            "Iteration 42, loss = 0.18557422\n",
            "Iteration 43, loss = 0.18470500\n",
            "Iteration 44, loss = 0.18328329\n",
            "Iteration 45, loss = 0.18265311\n",
            "Iteration 46, loss = 0.18195871\n",
            "Iteration 47, loss = 0.18149909\n",
            "Iteration 48, loss = 0.18011296\n",
            "Iteration 49, loss = 0.17912073\n",
            "Iteration 50, loss = 0.17823471\n",
            "Iteration 51, loss = 0.17693388\n",
            "Iteration 52, loss = 0.17605405\n",
            "Iteration 53, loss = 0.17476891\n",
            "Iteration 54, loss = 0.17362037\n",
            "Iteration 55, loss = 0.17335806\n",
            "Iteration 56, loss = 0.17243848\n",
            "Iteration 57, loss = 0.17111279\n",
            "Iteration 58, loss = 0.17018501\n",
            "Iteration 59, loss = 0.17017297\n",
            "Iteration 60, loss = 0.16941049\n",
            "[0.87179487 0.88461538 0.8974359  0.88311688 0.87012987]\n",
            "avg 0.8814185814185814\n"
          ]
        },
        {
          "output_type": "stream",
          "name": "stderr",
          "text": [
            "/usr/local/lib/python3.7/dist-packages/sklearn/neural_network/_multilayer_perceptron.py:696: ConvergenceWarning: Stochastic Optimizer: Maximum iterations (60) reached and the optimization hasn't converged yet.\n",
            "  ConvergenceWarning,\n"
          ]
        }
      ]
    },
    {
      "cell_type": "code",
      "source": [
        ""
      ],
      "metadata": {
        "id": "EWkRNSPHfDUM"
      },
      "execution_count": null,
      "outputs": []
    }
  ]
}